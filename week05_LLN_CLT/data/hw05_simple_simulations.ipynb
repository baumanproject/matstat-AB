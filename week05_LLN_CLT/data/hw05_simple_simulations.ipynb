{
  "cells": [
    {
      "cell_type": "markdown",
      "metadata": {
        "id": "Pd-bK5Q991q3"
      },
      "source": [
        "<center>\n",
        "<img src=\"https://github.com/baumanproject/matstat-AB/blob/main/week05_LLN_CLT/data/logo.png?raw=1\" height=\"900\"> \n",
        "</center>\n",
        "\n",
        "\n",
        "#  Простые симуляции\n",
        "\n",
        "В этом задании мы решим несколько простых задачек на симуляции. "
      ]
    },
    {
      "cell_type": "code",
      "execution_count": null,
      "metadata": {
        "id": "4TTMWJAC91q7"
      },
      "outputs": [],
      "source": [
        "import numpy as np\n",
        "import scipy.stats as sts\n",
        "import matplotlib.pyplot as plt"
      ]
    },
    {
      "cell_type": "markdown",
      "metadata": {
        "id": "sPZYyJTW91q8"
      },
      "source": [
        "## Упражнение 1 (распределение Пуассона)\n",
        "\n",
        "Случайная величина $X$ имеет распределение Пуассона с $\\lambda = 2$,  $X \\sim Pois(2)$. С помощью $10^6$ симуляций оцените: \n",
        "\n",
        "* $P(X > 6)$\n",
        "* $P(X > 6 \\mid X > 5)$\n",
        "* $P(X > 5, X < 7)$\n",
        "* $E(X^3)$ \n",
        "* $E(X \\mid X > 5)$\n",
        "\n",
        "__Под чёрточками имеется в виду условная вероятность!!!__\n",
        "\n",
        "Вбейте получившиеся ответы в переменные `ans1`, `ans2`, $\\ldots$, `ans5`. "
      ]
    },
    {
      "cell_type": "code",
      "source": [
        "import scipy.stats as sts"
      ],
      "metadata": {
        "id": "ueiBEijN-YgR"
      },
      "execution_count": null,
      "outputs": []
    },
    {
      "cell_type": "code",
      "source": [
        "num_observations = 10**6"
      ],
      "metadata": {
        "id": "rxvJBZTq-sOW"
      },
      "execution_count": null,
      "outputs": []
    },
    {
      "cell_type": "code",
      "source": [
        "pois = sts.poisson(2)"
      ],
      "metadata": {
        "id": "emceUZ2V-aEe"
      },
      "execution_count": null,
      "outputs": []
    },
    {
      "cell_type": "code",
      "source": [
        "distr = pois.rvs(num_observations)"
      ],
      "metadata": {
        "id": "IruWu310-7pf"
      },
      "execution_count": null,
      "outputs": []
    },
    {
      "cell_type": "code",
      "source": [
        "plt.hist(distr, bins=100)"
      ],
      "metadata": {
        "id": "ds5FsU2w_Iyl",
        "outputId": "b8d1d269-d6a9-4a8e-8e4f-d94f64b8f17e",
        "colab": {
          "base_uri": "https://localhost:8080/",
          "height": 1000
        }
      },
      "execution_count": null,
      "outputs": [
        {
          "output_type": "execute_result",
          "data": {
            "text/plain": [
              "(array([1.35279e+05, 0.00000e+00, 0.00000e+00, 0.00000e+00, 0.00000e+00,\n",
              "        0.00000e+00, 0.00000e+00, 0.00000e+00, 0.00000e+00, 2.70612e+05,\n",
              "        0.00000e+00, 0.00000e+00, 0.00000e+00, 0.00000e+00, 0.00000e+00,\n",
              "        0.00000e+00, 0.00000e+00, 0.00000e+00, 2.71342e+05, 0.00000e+00,\n",
              "        0.00000e+00, 0.00000e+00, 0.00000e+00, 0.00000e+00, 0.00000e+00,\n",
              "        0.00000e+00, 0.00000e+00, 1.80474e+05, 0.00000e+00, 0.00000e+00,\n",
              "        0.00000e+00, 0.00000e+00, 0.00000e+00, 0.00000e+00, 0.00000e+00,\n",
              "        0.00000e+00, 8.98410e+04, 0.00000e+00, 0.00000e+00, 0.00000e+00,\n",
              "        0.00000e+00, 0.00000e+00, 0.00000e+00, 0.00000e+00, 0.00000e+00,\n",
              "        3.61790e+04, 0.00000e+00, 0.00000e+00, 0.00000e+00, 0.00000e+00,\n",
              "        0.00000e+00, 0.00000e+00, 0.00000e+00, 0.00000e+00, 1.18910e+04,\n",
              "        0.00000e+00, 0.00000e+00, 0.00000e+00, 0.00000e+00, 0.00000e+00,\n",
              "        0.00000e+00, 0.00000e+00, 0.00000e+00, 3.31500e+03, 0.00000e+00,\n",
              "        0.00000e+00, 0.00000e+00, 0.00000e+00, 0.00000e+00, 0.00000e+00,\n",
              "        0.00000e+00, 0.00000e+00, 8.02000e+02, 0.00000e+00, 0.00000e+00,\n",
              "        0.00000e+00, 0.00000e+00, 0.00000e+00, 0.00000e+00, 0.00000e+00,\n",
              "        0.00000e+00, 2.15000e+02, 0.00000e+00, 0.00000e+00, 0.00000e+00,\n",
              "        0.00000e+00, 0.00000e+00, 0.00000e+00, 0.00000e+00, 0.00000e+00,\n",
              "        4.30000e+01, 0.00000e+00, 0.00000e+00, 0.00000e+00, 0.00000e+00,\n",
              "        0.00000e+00, 0.00000e+00, 0.00000e+00, 0.00000e+00, 7.00000e+00]),\n",
              " array([ 0.  ,  0.11,  0.22,  0.33,  0.44,  0.55,  0.66,  0.77,  0.88,\n",
              "         0.99,  1.1 ,  1.21,  1.32,  1.43,  1.54,  1.65,  1.76,  1.87,\n",
              "         1.98,  2.09,  2.2 ,  2.31,  2.42,  2.53,  2.64,  2.75,  2.86,\n",
              "         2.97,  3.08,  3.19,  3.3 ,  3.41,  3.52,  3.63,  3.74,  3.85,\n",
              "         3.96,  4.07,  4.18,  4.29,  4.4 ,  4.51,  4.62,  4.73,  4.84,\n",
              "         4.95,  5.06,  5.17,  5.28,  5.39,  5.5 ,  5.61,  5.72,  5.83,\n",
              "         5.94,  6.05,  6.16,  6.27,  6.38,  6.49,  6.6 ,  6.71,  6.82,\n",
              "         6.93,  7.04,  7.15,  7.26,  7.37,  7.48,  7.59,  7.7 ,  7.81,\n",
              "         7.92,  8.03,  8.14,  8.25,  8.36,  8.47,  8.58,  8.69,  8.8 ,\n",
              "         8.91,  9.02,  9.13,  9.24,  9.35,  9.46,  9.57,  9.68,  9.79,\n",
              "         9.9 , 10.01, 10.12, 10.23, 10.34, 10.45, 10.56, 10.67, 10.78,\n",
              "        10.89, 11.  ]),\n",
              " <BarContainer object of 100 artists>)"
            ]
          },
          "metadata": {},
          "execution_count": 9
        },
        {
          "output_type": "display_data",
          "data": {
            "text/plain": [
              "<Figure size 640x480 with 1 Axes>"
            ],
            "image/png": "[encoded data removed]"
          },
          "metadata": {}
        }
      ]
    },
    {
      "cell_type": "code",
      "source": [
        "sum([i for i in distr])/len(distr)"
      ],
      "metadata": {
        "id": "hdPHFcUR_p_n",
        "outputId": "d7cc0f20-c64d-49cb-efef-afcf668f93bd",
        "colab": {
          "base_uri": "https://localhost:8080/"
        }
      },
      "execution_count": null,
      "outputs": [
        {
          "output_type": "execute_result",
          "data": {
            "text/plain": [
              "1.998386"
            ]
          },
          "metadata": {},
          "execution_count": 23
        }
      ]
    },
    {
      "cell_type": "code",
      "execution_count": null,
      "metadata": {
        "deletable": false,
        "nbgrader": {
          "cell_type": "code",
          "checksum": "d510c9a6c4f49d97c2e5161ae93e4a0b",
          "grade": false,
          "grade_id": "cell-0cdc105173d26dcd",
          "locked": false,
          "schema_version": 3,
          "solution": true,
          "task": false
        },
        "id": "IVzdmfls91q9",
        "outputId": "dbf14561-d88e-4418-9805-79211756350b",
        "colab": {
          "base_uri": "https://localhost:8080/"
        }
      },
      "outputs": [
        {
          "output_type": "stream",
          "name": "stdout",
          "text": [
            "0.004382\n",
            "0.016273\n",
            "0.011891\n",
            "21.911522\n",
            "4.325177\n"
          ]
        }
      ],
      "source": [
        "### ╰( ͡° ͜ʖ ͡° )つ▬▬ι═══════  bzzzzzzzzzz\n",
        "# will the code be with you\n",
        "\n",
        "ans1 = sum(distr>6)/len(distr)\n",
        "ans2 = len([_ for i in distr if i> 5])/len(distr)\n",
        "ans3 = len([_ for i in distr if i> 5 and i < 7])/len(distr)\n",
        "ans4 = sum([i**3 for i in distr])/len(distr)\n",
        "ans5 = sum([i**3 for i in distr if i>5])/len(distr)\n",
        "\n",
        "# your code here\n",
        "print(ans1)\n",
        "print(ans2)\n",
        "print(ans3)\n",
        "print(ans4)\n",
        "print(ans5)"
      ]
    },
    {
      "cell_type": "code",
      "execution_count": null,
      "metadata": {
        "deletable": false,
        "editable": false,
        "nbgrader": {
          "cell_type": "code",
          "checksum": "0dcee68ccb098d61c3c07a0e268f5651",
          "grade": true,
          "grade_id": "cell-5e50c3445bab8f6d",
          "locked": true,
          "points": 5,
          "schema_version": 3,
          "solution": false,
          "task": false
        },
        "id": "XTQxRSqi91q9"
      },
      "outputs": [],
      "source": [
        "# проверка, что задание решено корректно\n",
        "assert np.abs(ans3 - 0.01) < 1e-2\n",
        "\n",
        "# Похожие тесты скрыты от вас"
      ]
    },
    {
      "cell_type": "markdown",
      "metadata": {
        "id": "ew0HDxf691q-"
      },
      "source": [
        "## Упражнение 2 (нейросети)\n",
        "\n",
        "Юра завёл себе две нейронные сетки и два сервера для их обучения. Две нейросети обучаются независимо на двух серверах. Время их обучения $T_1$ и $T_2$ равномерно распределено на отрезке $[1;3]$ (обучение измеряется в часах). В процессе обучения сервер может упасть. Момент падения сервера $T$ распределён экспоненциально с параметром $\\lambda = 0.3$. Он не зависит от времени обучения нейросеток. \n",
        "\n",
        "Известно, что одна из нейросетей успела обучиться, а вторая не успела. Какова вероятность того, что $T \\le 1.5$? Ответ вбейте в переменную `ans6`. При симуляциях для генерации момента подения используйте для обоих серверов одну и ту же случайную величину. \n",
        "\n",
        "**Hint:** при решении задачи помните о том, что у вас две нейросетки!"
      ]
    },
    {
      "cell_type": "code",
      "source": [
        "import scipy.stats as sts"
      ],
      "metadata": {
        "id": "podlHq7WC2-j"
      },
      "execution_count": null,
      "outputs": []
    },
    {
      "cell_type": "code",
      "source": [],
      "metadata": {
        "id": "iRK_3ufCDDKN",
        "outputId": "f122d3f1-0d45-4776-8517-a8f167815f59",
        "colab": {
          "base_uri": "https://localhost:8080/"
        }
      },
      "execution_count": null,
      "outputs": [
        {
          "output_type": "execute_result",
          "data": {
            "text/plain": [
              "<scipy.stats._distn_infrastructure.rv_continuous_frozen at 0x7fa13da12a00>"
            ]
          },
          "metadata": {},
          "execution_count": 27
        }
      ]
    },
    {
      "cell_type": "code",
      "source": [
        "obj_amount = 10**6"
      ],
      "metadata": {
        "id": "NkCozG2HDbZs"
      },
      "execution_count": null,
      "outputs": []
    },
    {
      "cell_type": "code",
      "source": [
        "uniform_dist = sts.uniform(1,3).rvs(obj_amount)"
      ],
      "metadata": {
        "id": "EfScbpa5Dfn2"
      },
      "execution_count": null,
      "outputs": []
    },
    {
      "cell_type": "code",
      "source": [
        "plt.hist(uniform_dist, bins = 100)\n",
        "plt.show()"
      ],
      "metadata": {
        "id": "NpRlZxXcDqsJ",
        "outputId": "93273c45-8e73-414a-ebad-a051774a91f6",
        "colab": {
          "base_uri": "https://localhost:8080/",
          "height": 430
        }
      },
      "execution_count": null,
      "outputs": [
        {
          "output_type": "display_data",
          "data": {
            "text/plain": [
              "<Figure size 640x480 with 1 Axes>"
            ],
            "image/png": "[encoded data removed]"
          },
          "metadata": {}
        }
      ]
    },
    {
      "cell_type": "code",
      "source": [
        "error = sts.expon(0.3).rvs(obj_amount)\n",
        "plt.hist(error, bins = 100)\n",
        "plt.show()"
      ],
      "metadata": {
        "id": "51D7BdkOEdDL",
        "outputId": "1db8d636-7af5-46cd-de29-298fa3f1a2bf",
        "colab": {
          "base_uri": "https://localhost:8080/",
          "height": 430
        }
      },
      "execution_count": null,
      "outputs": [
        {
          "output_type": "display_data",
          "data": {
            "text/plain": [
              "<Figure size 640x480 with 1 Axes>"
            ],
            "image/png": "[encoded data removed]"
          },
          "metadata": {}
        }
      ]
    },
    {
      "cell_type": "code",
      "source": [
        "ans6 = 2*(sum(error<=1.5)/len(error))*(sum(uniform_dist>1.5)/len(uniform_dist))*(sum(uniform_dist<=1.5)/len(uniform_dist))"
      ],
      "metadata": {
        "id": "_-AXgUGEQKcE"
      },
      "execution_count": null,
      "outputs": []
    },
    {
      "cell_type": "code",
      "source": [
        "ans6"
      ],
      "metadata": {
        "id": "pvkKRSonQghY",
        "outputId": "707c902b-cb64-4de3-b2a5-fd69d047c936",
        "colab": {
          "base_uri": "https://localhost:8080/"
        }
      },
      "execution_count": null,
      "outputs": [
        {
          "output_type": "execute_result",
          "data": {
            "text/plain": [
              "0.19423479970691998"
            ]
          },
          "metadata": {},
          "execution_count": 42
        }
      ]
    },
    {
      "cell_type": "code",
      "execution_count": null,
      "metadata": {
        "deletable": false,
        "editable": false,
        "nbgrader": {
          "cell_type": "code",
          "checksum": "b52a3cee0475ac74400aceda1dfcf9dc",
          "grade": true,
          "grade_id": "cell-4b7e86061bb9bfff",
          "locked": true,
          "points": 3,
          "schema_version": 3,
          "solution": false,
          "task": false
        },
        "id": "54pL7qg_91q-"
      },
      "outputs": [],
      "source": [
        "# проверка, что задание решено корректно\n",
        "assert ans6 < 0.2\n",
        "assert ans6 > 0.1\n",
        "\n",
        "# Похожие тесты скрыты от вас"
      ]
    },
    {
      "cell_type": "markdown",
      "metadata": {
        "id": "IircQnDA91q_"
      },
      "source": [
        "## Упражнение 3 (квантильное преобразование)\n",
        "\n",
        "Случайная величина $X$ описывается функцией распределения: \n",
        "\n",
        "$$\n",
        "F(x) = \\left( \\frac{\\ln x}{\\ln \\theta} \\right)^{\\alpha},  \\quad x \\in [1; \\theta]\n",
        "$$\n",
        "\n",
        "Сгенерируйте из такого распределения выборку объёма $10^6$ и оцените математическое ожидание данной случайной величины. Запишите его в переменную `ans7`. В качестве параметров возьмите $\\alpha=2, \\theta = 10$."
      ]
    },
    {
      "cell_type": "code",
      "source": [
        "import scipy.stats as sts\n",
        "import numpy as np\n",
        "\n",
        "n_obj = 10**6\n",
        "x = sts.uniform(0,1).rvs(n_obj)\n",
        "y_distr = np.exp((np.sqrt(x))*(np.log(10)))"
      ],
      "metadata": {
        "id": "5pCvdgZOnr-7"
      },
      "execution_count": 103,
      "outputs": []
    },
    {
      "cell_type": "code",
      "execution_count": 104,
      "metadata": {
        "deletable": false,
        "nbgrader": {
          "cell_type": "code",
          "checksum": "97551c7cbe44e47be29699f0dc3f8e88",
          "grade": false,
          "grade_id": "cell-d21b5450e8815816",
          "locked": false,
          "schema_version": 3,
          "solution": true,
          "task": false
        },
        "id": "YtQurxDB91q_"
      },
      "outputs": [],
      "source": [
        "### ╰( ͡° ͜ʖ ͡° )つ▬▬ι═══════  bzzzzzzzzzz\n",
        "# will the code be with you\n",
        "\n",
        "theta = 10\n",
        "alpha = 2\n",
        "\n",
        "ans7 = sum(y_distr)/len(y_distr)\n",
        "\n",
        "# your code here\n"
      ]
    },
    {
      "cell_type": "code",
      "source": [
        "ans7"
      ],
      "metadata": {
        "id": "lRUb2sLWpi3m",
        "outputId": "2bfef7fe-935a-4391-be4c-cd67e7e6a61d",
        "colab": {
          "base_uri": "https://localhost:8080/"
        }
      },
      "execution_count": 105,
      "outputs": [
        {
          "output_type": "execute_result",
          "data": {
            "text/plain": [
              "5.291719986346612"
            ]
          },
          "metadata": {},
          "execution_count": 105
        }
      ]
    },
    {
      "cell_type": "code",
      "source": [
        "x = np.linspace(1, 10, 10**6, endpoint=False)"
      ],
      "metadata": {
        "id": "n68z_EcgsEXf"
      },
      "execution_count": 120,
      "outputs": []
    },
    {
      "cell_type": "code",
      "source": [
        "len(x)"
      ],
      "metadata": {
        "id": "1_Zve_Pz0Uw9",
        "outputId": "291610c1-4c74-42a0-b1c4-41e6c5c36611",
        "colab": {
          "base_uri": "https://localhost:8080/"
        }
      },
      "execution_count": 121,
      "outputs": [
        {
          "output_type": "execute_result",
          "data": {
            "text/plain": [
              "1000000"
            ]
          },
          "metadata": {},
          "execution_count": 121
        }
      ]
    },
    {
      "cell_type": "code",
      "source": [
        "analytic = (2*(np.log(10)**(-2))*np.log(x)/x)*len(x)/10"
      ],
      "metadata": {
        "id": "JvVkqjzcr1B5"
      },
      "execution_count": 132,
      "outputs": []
    },
    {
      "cell_type": "markdown",
      "metadata": {
        "id": "zihO_7aP91rA"
      },
      "source": [
        "Нарисуйте для получившегося распределения гистограмму. Найдите в аналитическом виде плотность распределения. Нанесите её на картинку с гистограммой. "
      ]
    },
    {
      "cell_type": "code",
      "execution_count": 133,
      "metadata": {
        "deletable": false,
        "nbgrader": {
          "cell_type": "code",
          "checksum": "86d06b03e8a43604bbab2be36fff2690",
          "grade": false,
          "grade_id": "cell-434f781c2db5c1c1",
          "locked": false,
          "schema_version": 3,
          "solution": true,
          "task": false
        },
        "id": "PFbsbL5v91rA",
        "outputId": "6f2e2e4a-362e-472e-d86d-eeda301869c2",
        "colab": {
          "base_uri": "https://localhost:8080/",
          "height": 430
        }
      },
      "outputs": [
        {
          "output_type": "display_data",
          "data": {
            "text/plain": [
              "<Figure size 640x480 with 1 Axes>"
            ],
            "image/png": "[encoded data removed]"
          },
          "metadata": {}
        }
      ],
      "source": [
        "### ╰( ͡° ͜ʖ ͡° )つ▬▬ι═══════  bzzzzzzzzzz\n",
        "# will the code be with you\n",
        "import seaborn as sns\n",
        "# your code here\n",
        "plt.plot(x,analytic, color = 'green')\n",
        "sns.histplot(y_distr, bins = 100)\n",
        "plt.show()"
      ]
    },
    {
      "cell_type": "code",
      "execution_count": 99,
      "metadata": {
        "deletable": false,
        "editable": false,
        "nbgrader": {
          "cell_type": "code",
          "checksum": "9edc52be865e200213a454214c3060e4",
          "grade": true,
          "grade_id": "cell-16a71339d7f17228",
          "locked": true,
          "points": 2,
          "schema_version": 3,
          "solution": false,
          "task": false
        },
        "id": "m7pyCHZB91rA"
      },
      "outputs": [],
      "source": [
        "# проверка, что задание решено корректно\n",
        "assert ans7 < 6\n",
        "assert ans7 > 2\n",
        "\n",
        "# Похожие тесты скрыты от вас"
      ]
    },
    {
      "cell_type": "markdown",
      "metadata": {
        "id": "jzNx25CX91rA"
      },
      "source": [
        "## Упражнение 4 (сходимость по вероятности)\n",
        "\n",
        "__Это задание никак не оценивается.__ У распределения хи-квадрат есть следующее свойство: если $X_1, \\ldots, X_n \\sim iid~N(0,1)$, тогда имеет место следующая сходимость по веротяности:\n",
        "\n",
        "$$\n",
        "\\frac{\\chi^2_n}{n} = \\frac{X_1^2 + \\ldots + X_n^2}{n} \\to  1\n",
        "$$\n",
        "\n",
        "Продемонстрируйте с помощью симуляций, что это именно так. От вас требуется построить ту же картинку, что мы строили при иллюстрации ЗБЧ в лекции. Не забудьте построить для нескольких разных $\\varepsilon$ коридоры и убедиться, что последовательность с некоторого момента начинает пробивать их довольно редко."
      ]
    },
    {
      "cell_type": "code",
      "execution_count": null,
      "metadata": {
        "id": "3xPDxoNa91rB"
      },
      "outputs": [],
      "source": [
        "### ╰( ͡° ͜ʖ ͡° )つ▬▬ι═══════  bzzzzzzzzzz\n",
        "# will the code be with you"
      ]
    },
    {
      "cell_type": "markdown",
      "metadata": {
        "id": "5el12LMV91rB"
      },
      "source": [
        " "
      ]
    }
  ],
  "metadata": {
    "kernelspec": {
      "display_name": "Python 3",
      "language": "python",
      "name": "python3"
    },
    "language_info": {
      "codemirror_mode": {
        "name": "ipython",
        "version": 3
      },
      "file_extension": ".py",
      "mimetype": "text/x-python",
      "name": "python",
      "nbconvert_exporter": "python",
      "pygments_lexer": "ipython3",
      "version": "3.7.6"
    },
    "colab": {
      "provenance": []
    }
  },
  "nbformat": 4,
  "nbformat_minor": 0
}
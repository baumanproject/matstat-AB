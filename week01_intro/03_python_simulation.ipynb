{
  "cells": [
    {
      "cell_type": "markdown",
      "metadata": {
        "id": "view-in-github",
        "colab_type": "text"
      },
      "source": [
        "<a href=\"https://colab.research.google.com/github/baumanproject/matstat-AB/blob/main/week01_intro/03_python_simulation.ipynb\" target=\"_parent\"><img src=\"https://colab.research.google.com/assets/colab-badge.svg\" alt=\"Open In Colab\"/></a>"
      ]
    },
    {
      "cell_type": "markdown",
      "metadata": {
        "id": "TCI4oR0kVoNf"
      },
      "source": [
        "<center>\n",
        "<img src=\"https://github.com/baumanproject/matstat-AB/blob/main/week01_intro/logo.png?raw=1\" height=\"900\"> \n",
        "</center>\n",
        "\n",
        "\n",
        "#  Симуляции случайных величин\n",
        "\n",
        "В этой тетрадке мы поговорим как в python можно симулировать разные случайные величины и смотреть как они выглядят."
      ]
    },
    {
      "cell_type": "code",
      "execution_count": 1,
      "metadata": {
        "id": "gnY-_grZVoNh"
      },
      "outputs": [],
      "source": [
        "import numpy as np         # библиотека для матриц и математики\n",
        "import pandas as pd        # библиотека дл работы с табличками\n",
        "from scipy import stats    # модуль для работы со статистикой\n",
        "\n",
        "# библиотеки для визуализации\n",
        "import matplotlib.pyplot as plt\n",
        "import seaborn as sns\n",
        "\n",
        "plt.style.use('ggplot')    # стиль графиков\n",
        "%matplotlib inline"
      ]
    },
    {
      "cell_type": "markdown",
      "metadata": {
        "id": "usgjYyRaVoNi"
      },
      "source": [
        "# 1. Генерация случайных величин в python\n",
        "\n",
        "\n",
        "Иногда для решения задач по теории вероятностей или исследования свойств статистических алгоритмов нужно сгенерировать случайную выборку из какого-нибудь распределения. Чтобы сгенерировать в `python` любую случайную величину, нужно сделать две вещи: \n",
        "\n",
        "* Создать генератор. \n",
        "\n",
        "Внутри пакета `scipy.stats` есть [много разных распределений.](https://docs.scipy.org/doc/scipy-0.14.0/reference/stats.html) Среди всего этого обилия нужно найти нужное распределение и задать его параметры. Давайте сделаем это  на примере **нормального распределения**, $X \\sim N(\\mu, \\sigma^2)$. Того самого распределения, плотность которого выглядит как: \n",
        "\n",
        "$$\n",
        "f(x) = \\frac{1}{\\sigma \\sqrt{2 \\pi}} \\cdot  e^{-\\frac{(x - \\mu)^2}{2 \\sigma^2}}\n",
        "$$\n",
        "\n",
        "\n",
        "Параметр ```loc``` задаёт $\\mu$, ```scale``` — среднеквадратичное отклонение $\\sigma$."
      ]
    },
    {
      "cell_type": "code",
      "execution_count": 2,
      "metadata": {
        "id": "307OjpQ0VoNj"
      },
      "outputs": [],
      "source": [
        "norm_rv = stats.norm(loc=0, scale=1)  # задали генератор "
      ]
    },
    {
      "cell_type": "markdown",
      "metadata": {
        "id": "IPqNDKWxVoNj"
      },
      "source": [
        "Когда конкретный генератор готов, у него можно вызывать разные методы: \n",
        "\n",
        "* `rvs` сгенерирует нам выборку из распределения объёма `size`\n",
        "* `cdf` вычислит для нас значение функции распределения (cumulative distribution function) в указанной точке\n",
        "* `pdf` вычислит значение плотности распредеелния (probability density function) в указанной точке \n",
        "* `ppf` вычислит квантиль, указанного уровня\n",
        "\n",
        "[В документации](https://docs.scipy.org/doc/scipy-0.14.0/reference/stats.html) можно найти и другие методы, но мы с ними практически не будем встречаться в течение нашего курса (см. разел statistical functions)."
      ]
    },
    {
      "cell_type": "code",
      "execution_count": 3,
      "metadata": {
        "id": "2ZZEEHWGVoNj",
        "outputId": "53e958de-824d-45ac-8a35-c4d7cd45c856",
        "colab": {
          "base_uri": "https://localhost:8080/"
        }
      },
      "outputs": [
        {
          "output_type": "execute_result",
          "data": {
            "text/plain": [
              "array([ 0.89117787,  1.08742635,  1.24606563,  0.26751767,  0.34581144,\n",
              "       -0.3941968 ,  0.45830897,  0.94288403, -2.15188409, -0.04646555])"
            ]
          },
          "metadata": {},
          "execution_count": 3
        }
      ],
      "source": [
        "sample = norm_rv.rvs(1000)  # сгенерируем 1000 значений\n",
        "sample[:10]"
      ]
    },
    {
      "cell_type": "markdown",
      "metadata": {
        "id": "iPhdFMyxVoNl"
      },
      "source": [
        "# 2. Плотность и функция распределения\n"
      ]
    },
    {
      "cell_type": "markdown",
      "metadata": {
        "id": "iECPea6zVoNl"
      },
      "source": [
        "Теперь мы можем немного поэкспериментировать с нашей случайной величиной. Например, __мы можем узнать $f(1)$__."
      ]
    },
    {
      "cell_type": "code",
      "execution_count": 4,
      "metadata": {
        "id": "ercTs1JOVoNl",
        "outputId": "a7126554-f0d2-4af5-b805-f7282a8b5e4b",
        "colab": {
          "base_uri": "https://localhost:8080/"
        }
      },
      "outputs": [
        {
          "output_type": "execute_result",
          "data": {
            "text/plain": [
              "0.24197072451914337"
            ]
          },
          "metadata": {},
          "execution_count": 4
        }
      ],
      "source": [
        "norm_rv.pdf(1)"
      ]
    },
    {
      "cell_type": "markdown",
      "metadata": {
        "id": "e9Az1dmbVoNm"
      },
      "source": [
        "Можем построить картинку для плотности распределения, $f(x)$. "
      ]
    },
    {
      "cell_type": "code",
      "execution_count": 5,
      "metadata": {
        "id": "CxVpRNboVoNm"
      },
      "outputs": [],
      "source": [
        "x = np.linspace(-3, 3, 100)\n",
        "pdf = norm_rv.pdf(x)"
      ]
    },
    {
      "cell_type": "code",
      "execution_count": 6,
      "metadata": {
        "id": "uxihbDc7VoNm",
        "outputId": "5159bf30-1d3a-4450-d811-a4e7af1e3d7a",
        "colab": {
          "base_uri": "https://localhost:8080/",
          "height": 282
        }
      },
      "outputs": [
        {
          "output_type": "display_data",
          "data": {
            "text/plain": [
              "<Figure size 432x288 with 1 Axes>"
            ],
            "image/png": "[encoded data removed]"
          },
          "metadata": {
            "needs_background": "light"
          }
        }
      ],
      "source": [
        "plt.plot(x, pdf)\n",
        "plt.ylabel('$f(x)$')\n",
        "plt.xlabel('$x$')\n",
        "\n",
        "# На ней же нарисуем f(1)\n",
        "plt.scatter([1,2], [norm_rv.pdf(1), norm_rv.pdf(2)], color=\"blue\");"
      ]
    },
    {
      "cell_type": "markdown",
      "metadata": {
        "id": "Y4I5UKUyVoNn"
      },
      "source": [
        "Теперь узнаем значение функции распределения в точке $1$: $$F(1) = P(X \\le 1) = \\int_{-\\infty}^1 f(x)dx$$"
      ]
    },
    {
      "cell_type": "code",
      "execution_count": 7,
      "metadata": {
        "id": "-LbMCL0rVoNn",
        "outputId": "d4930e7d-081a-4cc5-bd40-36452f836663",
        "colab": {
          "base_uri": "https://localhost:8080/"
        }
      },
      "outputs": [
        {
          "output_type": "execute_result",
          "data": {
            "text/plain": [
              "0.8413447460685429"
            ]
          },
          "metadata": {},
          "execution_count": 7
        }
      ],
      "source": [
        "norm_rv.cdf(1)"
      ]
    },
    {
      "cell_type": "markdown",
      "metadata": {
        "id": "VSS2OBsEVoNo"
      },
      "source": [
        "На плотности распределения это выглядит как площадь до точки $1$, то есть вероятность того, что $X \\le 1$."
      ]
    },
    {
      "cell_type": "code",
      "execution_count": 8,
      "metadata": {
        "id": "_94bQF3hVoNo",
        "outputId": "689f70ab-89c8-4cb3-c1a5-87c6f0d9e551",
        "colab": {
          "base_uri": "https://localhost:8080/",
          "height": 282
        }
      },
      "outputs": [
        {
          "output_type": "display_data",
          "data": {
            "text/plain": [
              "<Figure size 432x288 with 1 Axes>"
            ],
            "image/png": "[encoded data removed]"
          },
          "metadata": {
            "needs_background": "light"
          }
        }
      ],
      "source": [
        "x = np.linspace(-3, 3, 100)\n",
        "pdf = norm_rv.pdf(x)\n",
        "\n",
        "plt.plot(x, pdf)\n",
        "plt.ylabel('$f(x)$')\n",
        "plt.xlabel('$x$')\n",
        "\n",
        "# На ней же нарисуем f(1)\n",
        "plt.scatter([1], [norm_rv.pdf(1)], color=\"blue\");\n",
        "\n",
        "# на ту же картинку добавили новую часть, штриховку\n",
        "xq = np.linspace(-3, 1, 100)\n",
        "yq = norm_rv.pdf(xq)\n",
        "plt.fill_between(xq, 0, yq, color='blue', alpha=0.2)\n",
        "\n",
        "plt.axvline(1, color='blue', linestyle=\"--\", lw=2);"
      ]
    },
    {
      "cell_type": "markdown",
      "metadata": {
        "id": "Q9WjX2HeVoNo"
      },
      "source": [
        "Можем построить картинку для функции распределения."
      ]
    },
    {
      "cell_type": "code",
      "execution_count": 9,
      "metadata": {
        "id": "2HYfJDV1VoNo",
        "outputId": "81cde42c-494b-48ef-dc14-8d87d6c88f7f",
        "colab": {
          "base_uri": "https://localhost:8080/",
          "height": 282
        }
      },
      "outputs": [
        {
          "output_type": "display_data",
          "data": {
            "text/plain": [
              "<Figure size 432x288 with 1 Axes>"
            ],
            "image/png": "[encoded data removed]"
          },
          "metadata": {
            "needs_background": "light"
          }
        }
      ],
      "source": [
        "x = np.linspace(-3, 3, 100)\n",
        "cdf = norm_rv.cdf(x)\n",
        "\n",
        "plt.plot(x, cdf)\n",
        "plt.ylabel('$f(x)$')\n",
        "plt.xlabel('$x$')\n",
        "\n",
        "# На ней же нарисуем F(1)\n",
        "plt.scatter([1], [norm_rv.cdf(1)], color=\"blue\");"
      ]
    },
    {
      "cell_type": "markdown",
      "metadata": {
        "id": "uD1P0Y3FVoNp"
      },
      "source": [
        "А теперь найдём ещё одну вероятность:\n",
        "\n",
        "$$ P(1 < X < 3) = \\int_1^3 f(x) dx = F(3) - F(1)$$"
      ]
    },
    {
      "cell_type": "code",
      "execution_count": 10,
      "metadata": {
        "id": "xK8dvYN_VoNp",
        "outputId": "44ca3969-2297-4e6d-a37d-ee50a33ebe5d",
        "colab": {
          "base_uri": "https://localhost:8080/"
        }
      },
      "outputs": [
        {
          "output_type": "execute_result",
          "data": {
            "text/plain": [
              "0.15730535589982697"
            ]
          },
          "metadata": {},
          "execution_count": 10
        }
      ],
      "source": [
        "norm_rv.cdf(3) - norm_rv.cdf(1)"
      ]
    },
    {
      "cell_type": "markdown",
      "metadata": {
        "id": "orhSftDHVoNp"
      },
      "source": [
        "Это уже вероятность попасть в конкретный отрезок, изобразим её на плотности распределения. "
      ]
    },
    {
      "cell_type": "code",
      "execution_count": 11,
      "metadata": {
        "id": "aEeMjOg0VoNp",
        "outputId": "7ef45cf8-88ee-431a-fe4d-d9f2d3001ac5",
        "colab": {
          "base_uri": "https://localhost:8080/",
          "height": 282
        }
      },
      "outputs": [
        {
          "output_type": "display_data",
          "data": {
            "text/plain": [
              "<Figure size 432x288 with 1 Axes>"
            ],
            "image/png": "[encoded data removed]"
          },
          "metadata": {
            "needs_background": "light"
          }
        }
      ],
      "source": [
        "x = np.linspace(-5, 5, 100)\n",
        "pdf = norm_rv.pdf(x)\n",
        "\n",
        "plt.plot(x, pdf)\n",
        "plt.ylabel('$f(x)$')\n",
        "plt.xlabel('$x$')\n",
        "\n",
        "# На ней же нарисуем f(1)\n",
        "plt.scatter([1, 3], [norm_rv.pdf(1), norm_rv.pdf(3)], color=\"blue\");\n",
        "\n",
        "# на ту же картинку добавили новую часть, штриховку\n",
        "xq = np.linspace(1, 3)\n",
        "yq = norm_rv.pdf(xq)\n",
        "plt.fill_between(xq, 0, yq, color='blue', alpha=0.2)\n",
        "\n",
        "plt.axvline(1, color='blue', linestyle=\"--\", lw=2)\n",
        "plt.axvline(3, color='blue', linestyle=\"--\", lw=2);"
      ]
    },
    {
      "cell_type": "markdown",
      "metadata": {
        "id": "7VyE--rhVoNp"
      },
      "source": [
        "Для полноты картины осталось только найти какой-нибудь квантиль. Квантиль уровня $\\gamma$ это такое число $q$, что \n",
        "\n",
        "$$P(X \\le q) = \\gamma$$\n",
        "\n",
        "Найдём $5\\%$ и нарисуем его на картинке с плотностью:"
      ]
    },
    {
      "cell_type": "code",
      "execution_count": 12,
      "metadata": {
        "id": "UNU7RobbVoNq",
        "outputId": "d7c87f2a-4816-453f-8243-46bcfba13b4d",
        "colab": {
          "base_uri": "https://localhost:8080/"
        }
      },
      "outputs": [
        {
          "output_type": "execute_result",
          "data": {
            "text/plain": [
              "0.0"
            ]
          },
          "metadata": {},
          "execution_count": 12
        }
      ],
      "source": [
        "q = norm_rv.ppf(0.1)\n",
        "q = norm_rv.ppf(0.5)  # медиана\n",
        "q"
      ]
    },
    {
      "cell_type": "code",
      "execution_count": 13,
      "metadata": {
        "id": "kHozQ6zEVoNq",
        "outputId": "62586696-dfc7-40b8-f698-5dcdc041655f",
        "colab": {
          "base_uri": "https://localhost:8080/",
          "height": 299
        }
      },
      "outputs": [
        {
          "output_type": "execute_result",
          "data": {
            "text/plain": [
              "Text(0.1, 0.33511151553720353, '0.0')"
            ]
          },
          "metadata": {},
          "execution_count": 13
        },
        {
          "output_type": "display_data",
          "data": {
            "text/plain": [
              "<Figure size 432x288 with 1 Axes>"
            ],
            "image/png": "[encoded data removed]"
          },
          "metadata": {
            "needs_background": "light"
          }
        }
      ],
      "source": [
        "x = np.linspace(-3, 3, 100)\n",
        "pdf = norm_rv.pdf(x)\n",
        "\n",
        "plt.plot(x, pdf)\n",
        "plt.ylabel('$f(x)$')\n",
        "plt.xlabel('$x$')\n",
        "\n",
        "xq = np.linspace(-3, q)\n",
        "yq = norm_rv.pdf(xq)\n",
        "plt.fill_between(xq, 0, yq, color='blue', alpha=0.2)\n",
        "\n",
        "plt.axvline(q, color='blue', linestyle=\"--\", lw=2)\n",
        "\n",
        "y_max = plt.ylim()[1]\n",
        "plt.text(q + 0.1, 0.8*y_max, round(q,2), color='blue', fontsize=16)"
      ]
    },
    {
      "cell_type": "markdown",
      "metadata": {
        "id": "iyH3dUqcVoNq"
      },
      "source": [
        "Обратите внимание, что всё, что мы сейчас делали - мы делали с теоретическим распределением. По аналогии можно работать с любым другим распределением. Например, с экспоненциальным: "
      ]
    },
    {
      "cell_type": "code",
      "execution_count": 14,
      "metadata": {
        "id": "jAi_1Ew7VoNq",
        "outputId": "815d492e-02d7-40a2-fa81-3cd077a4040a",
        "colab": {
          "base_uri": "https://localhost:8080/"
        }
      },
      "outputs": [
        {
          "output_type": "execute_result",
          "data": {
            "text/plain": [
              "array([0.88540521, 3.11034761, 4.95065852, 1.02683956, 4.10226148])"
            ]
          },
          "metadata": {},
          "execution_count": 14
        }
      ],
      "source": [
        "exp_rv = stats.expon(scale=5)\n",
        "exp_rv.rvs(5)"
      ]
    },
    {
      "cell_type": "markdown",
      "metadata": {
        "id": "meUqZUXkVoNq"
      },
      "source": [
        "# 3. Эмпирическое распределение \n",
        "\n",
        "Давайте теперь поработаем с выборкой. Обычно мы не знаем из какого распределения она пришла к нам в руки. Мы можем посчитать какие-нибудь характеристики для нашей случайной величины."
      ]
    },
    {
      "cell_type": "code",
      "execution_count": null,
      "metadata": {
        "id": "5nszxqbsVoNr",
        "outputId": "394bd059-f56b-4304-ec95-9978e766fd7b"
      },
      "outputs": [
        {
          "data": {
            "text/plain": [
              "array([ 0.15639252,  1.02234585, -0.62818028,  0.52441745,  0.53530756,\n",
              "       -0.70614315,  1.44146907, -1.56120215, -2.52892519, -2.2976001 ])"
            ]
          },
          "execution_count": 15,
          "metadata": {},
          "output_type": "execute_result"
        }
      ],
      "source": [
        "sample[:10]"
      ]
    },
    {
      "cell_type": "code",
      "execution_count": null,
      "metadata": {
        "id": "ky50kTVzVoNr",
        "outputId": "ed186b12-5cf7-4d6d-9b28-bcff2de82be2"
      },
      "outputs": [
        {
          "data": {
            "text/plain": [
              "(1000,)"
            ]
          },
          "execution_count": 16,
          "metadata": {},
          "output_type": "execute_result"
        }
      ],
      "source": [
        "sample.shape"
      ]
    },
    {
      "cell_type": "code",
      "execution_count": null,
      "metadata": {
        "id": "uro1psNXVoNr",
        "outputId": "aa75cc9e-ba3a-46f7-cdc5-4ff57fee4c68"
      },
      "outputs": [
        {
          "data": {
            "text/plain": [
              "0.017603193640985518"
            ]
          },
          "execution_count": 17,
          "metadata": {},
          "output_type": "execute_result"
        }
      ],
      "source": [
        "np.mean(sample)  # выборочное среднее(при больших n похоже на математическое ожидание)"
      ]
    },
    {
      "cell_type": "code",
      "execution_count": null,
      "metadata": {
        "id": "Fqhh2l2-VoNr",
        "outputId": "33372f23-c5ef-4e25-e5dd-3f17846aecfd"
      },
      "outputs": [
        {
          "data": {
            "text/plain": [
              "1.0306383172476863"
            ]
          },
          "execution_count": 18,
          "metadata": {},
          "output_type": "execute_result"
        }
      ],
      "source": [
        "np.var(sample)   # выборочная дисперсия"
      ]
    },
    {
      "cell_type": "code",
      "execution_count": null,
      "metadata": {
        "id": "SSxhde-iVoNr",
        "outputId": "67077872-a19d-4302-bd05-979245c6c998"
      },
      "outputs": [
        {
          "data": {
            "text/plain": [
              "1.0152035841385147"
            ]
          },
          "execution_count": 19,
          "metadata": {},
          "output_type": "execute_result"
        }
      ],
      "source": [
        "np.std(sample)   # выборочное стандартное отклонение"
      ]
    },
    {
      "cell_type": "code",
      "execution_count": null,
      "metadata": {
        "id": "45MdYQ7xVoNs",
        "outputId": "b9cde968-ef00-4bc7-9dd8-1666f6decac8"
      },
      "outputs": [
        {
          "data": {
            "text/plain": [
              "0.07090609259260366"
            ]
          },
          "execution_count": 20,
          "metadata": {},
          "output_type": "execute_result"
        }
      ],
      "source": [
        "np.median(sample) # выборочная медиана"
      ]
    },
    {
      "cell_type": "markdown",
      "metadata": {
        "id": "CoZ0OFxIVoNs"
      },
      "source": [
        "Построим гистограмму. Гистограмма - это эмпирическая оценка для плотности распределения. "
      ]
    },
    {
      "cell_type": "code",
      "execution_count": null,
      "metadata": {
        "scrolled": true,
        "id": "UBXo2Qu-VoNs",
        "outputId": "72efffc2-7265-4adf-8dff-eb661e633e73"
      },
      "outputs": [
        {
          "data": {
            "image/png": "[encoded data removed]",
            "text/plain": [
              "<Figure size 432x288 with 1 Axes>"
            ]
          },
          "metadata": {
            "needs_background": "light"
          },
          "output_type": "display_data"
        }
      ],
      "source": [
        "plt.hist(sample, bins=1000);  # bins отвечает за число столбцов"
      ]
    },
    {
      "cell_type": "markdown",
      "metadata": {
        "id": "RasCg85SVoNs"
      },
      "source": [
        "Нарисуем гистограмму и плотность на одной картинке. "
      ]
    },
    {
      "cell_type": "code",
      "execution_count": null,
      "metadata": {
        "id": "XjlrWKn6VoNs",
        "outputId": "bf2f45e1-2358-479c-aa02-c93626ba7770"
      },
      "outputs": [
        {
          "data": {
            "image/png": "[encoded data removed]",
            "text/plain": [
              "<Figure size 432x288 with 1 Axes>"
            ]
          },
          "metadata": {
            "needs_background": "light"
          },
          "output_type": "display_data"
        }
      ],
      "source": [
        "x = np.linspace(-3, 3, 100)\n",
        "pdf = norm_rv.pdf(x)\n",
        "\n",
        "# плотность \n",
        "plt.plot(x, pdf, lw=3)\n",
        "\n",
        "# гистограмма, параметр density отнормировал её. \n",
        "plt.hist(sample, bins=30, density=True);\n",
        "\n",
        "plt.ylabel('$f(x)$')\n",
        "plt.xlabel('$x$');"
      ]
    },
    {
      "cell_type": "markdown",
      "metadata": {
        "id": "ke0TihZZVoNs"
      },
      "source": [
        "Построим по выборке эмпирическую функцию распределения. "
      ]
    },
    {
      "cell_type": "code",
      "execution_count": null,
      "metadata": {
        "id": "cHcVsgRGVoNt",
        "outputId": "1ce3574d-cde0-40c8-d067-7a467e3c60cf"
      },
      "outputs": [
        {
          "data": {
            "image/png": "[encoded data removed]",
            "text/plain": [
              "<Figure size 432x288 with 1 Axes>"
            ]
          },
          "metadata": {
            "needs_background": "light"
          },
          "output_type": "display_data"
        }
      ],
      "source": [
        "# для построения ECDF используем библиотеку statsmodels\n",
        "from statsmodels.distributions.empirical_distribution import ECDF\n",
        "\n",
        "ecdf = ECDF(sample)   # строим эмпирическую функцию по выборке\n",
        "\n",
        "plt.step(ecdf.x, ecdf.y)\n",
        "plt.ylabel('$F(x)$', fontsize=20)\n",
        "plt.xlabel('$x$', fontsize=20);"
      ]
    },
    {
      "cell_type": "markdown",
      "metadata": {
        "id": "DVxqD1zhVoNt"
      },
      "source": [
        "Можно нарисовать её на одной картинке с теоретической:"
      ]
    },
    {
      "cell_type": "code",
      "execution_count": null,
      "metadata": {
        "id": "DVJcX2kKVoNt",
        "outputId": "fd2e4fd6-07bf-47e7-f99e-aea05292b48a"
      },
      "outputs": [
        {
          "data": {
            "image/png": "[encoded data removed]",
            "text/plain": [
              "<Figure size 432x288 with 1 Axes>"
            ]
          },
          "metadata": {
            "needs_background": "light"
          },
          "output_type": "display_data"
        }
      ],
      "source": [
        "x = np.linspace(-3, 3, 100)\n",
        "\n",
        "# теоретическа cdf \n",
        "cdf = norm_rv.cdf(x)\n",
        "plt.plot(x, cdf, label='theoretical CDF')\n",
        "\n",
        "# эмпирическая сdf\n",
        "ecdf = ECDF(sample)\n",
        "plt.step(ecdf.x, ecdf.y, label='empirical CDF')\n",
        "\n",
        "plt.ylabel('$F(x)$')\n",
        "plt.xlabel('$x$')\n",
        "plt.legend(loc='upper left');"
      ]
    },
    {
      "cell_type": "markdown",
      "metadata": {
        "id": "T7NGUkvgVoNt"
      },
      "source": [
        "# 4. Генерация выборок\n",
        "\n",
        "С помощью таких же нехитрых манипуляций можно симулировать различные события. Например, можно сгенерировать выборку без повторений из вектора `1:10` размера `5`. Все элементы будут выбираться равновероятно.\n",
        "\n",
        "Мы это будем делать [с помощью `np.random`.](https://docs.scipy.org/doc/numpy-1.15.0/reference/routines.random.html) Внутри numpy реализованы самые простые генераторы, и их, обычно, использовать довольно удобно. "
      ]
    },
    {
      "cell_type": "code",
      "execution_count": null,
      "metadata": {
        "id": "-K_LKWWTVoNt",
        "outputId": "63b6801b-f470-4481-a483-7655800e9998"
      },
      "outputs": [
        {
          "data": {
            "text/plain": [
              "array([ 1,  2,  3,  4,  5,  6,  7,  8,  9, 10])"
            ]
          },
          "execution_count": 25,
          "metadata": {},
          "output_type": "execute_result"
        }
      ],
      "source": [
        "np.arange(1,11)"
      ]
    },
    {
      "cell_type": "code",
      "execution_count": null,
      "metadata": {
        "id": "xlPkIc7KVoNt",
        "outputId": "796133b7-e2eb-4c01-e843-31ccde8368cb"
      },
      "outputs": [
        {
          "data": {
            "text/plain": [
              "array([7, 1, 3, 8, 9])"
            ]
          },
          "execution_count": 26,
          "metadata": {},
          "output_type": "execute_result"
        }
      ],
      "source": [
        "np.random.choice(np.arange(1,11), \n",
        "                 size=5,\n",
        "                 replace=False) # выборка без повторений"
      ]
    },
    {
      "cell_type": "markdown",
      "metadata": {
        "id": "NRxAzBiyVoNu"
      },
      "source": [
        "Можно делать генерации с повторениями, параметр `replace` базово равен `True`."
      ]
    },
    {
      "cell_type": "code",
      "execution_count": null,
      "metadata": {
        "id": "ynJ4u7HUVoNu",
        "outputId": "bd6edc92-99e1-4533-ba42-7d65845a6053"
      },
      "outputs": [
        {
          "data": {
            "text/plain": [
              "array([ 6,  7, 10,  8,  6])"
            ]
          },
          "execution_count": 27,
          "metadata": {},
          "output_type": "execute_result"
        }
      ],
      "source": [
        "np.random.choice(np.arange(1,11), \n",
        "                 size=5,\n",
        "                replace=True) # с повторениями"
      ]
    },
    {
      "cell_type": "markdown",
      "metadata": {
        "id": "6AefL8LuVoNu"
      },
      "source": [
        "А ещё можно самостоятельно расставить вероятности событий. Давайте, например устроим симуляцию рыбалки! "
      ]
    },
    {
      "cell_type": "code",
      "execution_count": null,
      "metadata": {
        "id": "flBT4KJgVoNu",
        "outputId": "3cbb9083-1be2-4a25-ffa0-8e426c1b1140"
      },
      "outputs": [
        {
          "data": {
            "text/plain": [
              "array(['плотва', 'плотва', 'карась', 'плотва', 'карась', 'щука', 'плотва',\n",
              "       'щука', 'карась', 'щука'], dtype='<U6')"
            ]
          },
          "execution_count": 28,
          "metadata": {},
          "output_type": "execute_result"
        }
      ],
      "source": [
        "np.random.choice(['карась', 'плотва', 'щука'], \n",
        "                 size=10, \n",
        "                 p=[0.5, 0.2, 0.3]) # с повторениями"
      ]
    },
    {
      "cell_type": "markdown",
      "metadata": {
        "id": "NgSZ4BxEVoNu"
      },
      "source": [
        "# 5. Зёрна \n",
        "\n",
        "Если выполнить команду `stats.norm(loc=3, scale=2).rvs(5)` на двух разных компьютерах или два раза на одном и том же, то результат будет разный. Не зря же они случайные :)"
      ]
    },
    {
      "cell_type": "code",
      "execution_count": null,
      "metadata": {
        "id": "DzV7sSazVoNu",
        "outputId": "5f1ac208-0bfe-4948-e189-7a0b9fc8b484"
      },
      "outputs": [
        {
          "data": {
            "text/plain": [
              "array([1.50186131, 1.68454316, 0.17862297, 3.08445249, 3.93084854])"
            ]
          },
          "execution_count": 29,
          "metadata": {},
          "output_type": "execute_result"
        }
      ],
      "source": [
        "rv = stats.norm(loc=3, scale=2)\n",
        "rv.rvs(5)"
      ]
    },
    {
      "cell_type": "code",
      "execution_count": null,
      "metadata": {
        "id": "8QJjuo6pVoNv",
        "outputId": "08a7ae1e-fa97-41d3-fd4a-0edfedab3af4"
      },
      "outputs": [
        {
          "data": {
            "text/plain": [
              "array([2.65953298, 1.00119723, 1.20886215, 0.81245181, 1.87138141])"
            ]
          },
          "execution_count": 30,
          "metadata": {},
          "output_type": "execute_result"
        }
      ],
      "source": [
        "stats.norm(loc=3, scale=2).rvs(5)"
      ]
    },
    {
      "cell_type": "markdown",
      "metadata": {
        "id": "NN7znjecVoNv"
      },
      "source": [
        "Однако генерирование случайных величин никак не противоречит идее абсолютно точной воспроизводимости исследований. Для того, чтобы получились одинаковые результаты, необходимо синхронизировать генераторы случайных чисел на этих двух компьютерах. Делается это путём задания зерна генератора случайных чисел (seed). Зерно также называют стартовым значением. В качестве зерна подойдёт любое целое число."
      ]
    },
    {
      "cell_type": "code",
      "execution_count": null,
      "metadata": {
        "id": "ukV-_4sQVoNv",
        "outputId": "7b1d58a8-4f4a-49a4-e985-89d8b3a879ba"
      },
      "outputs": [
        {
          "data": {
            "text/plain": [
              "array([0.73232333, 3.76863839, 5.99310755, 2.28923541, 1.42493292])"
            ]
          },
          "execution_count": 31,
          "metadata": {},
          "output_type": "execute_result"
        }
      ],
      "source": [
        "stats.norm(loc=3, scale=2).rvs(5, random_state=111)"
      ]
    },
    {
      "cell_type": "markdown",
      "metadata": {
        "id": "XiaPNnPRVoNv"
      },
      "source": [
        "__Угадайте, какие числа чаще всего используют для зёрен?__\n",
        "\n",
        "Многие алгоритмы в анализе данных в какой-то степени основаны на случайности (например в самом начале обучения веса берутся из какого-то распределения или обучение идёт на случайной подвыборке). Чтобы добиться воспроизводимых, одинаковых результатов, не зависящих от запуска, нужно устанавливать зерно генерации. "
      ]
    },
    {
      "cell_type": "markdown",
      "metadata": {
        "id": "MgmsLsOTVoNv"
      },
      "source": [
        "  "
      ]
    }
  ],
  "metadata": {
    "kernelspec": {
      "display_name": "Python 3",
      "language": "python",
      "name": "python3"
    },
    "language_info": {
      "codemirror_mode": {
        "name": "ipython",
        "version": 3
      },
      "file_extension": ".py",
      "mimetype": "text/x-python",
      "name": "python",
      "nbconvert_exporter": "python",
      "pygments_lexer": "ipython3",
      "version": "3.7.6"
    },
    "colab": {
      "provenance": [],
      "include_colab_link": true
    }
  },
  "nbformat": 4,
  "nbformat_minor": 0
}
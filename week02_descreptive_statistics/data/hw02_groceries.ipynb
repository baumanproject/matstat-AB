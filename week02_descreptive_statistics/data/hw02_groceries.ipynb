{
  "cells": [
    {
      "cell_type": "markdown",
      "metadata": {
        "id": "kypL1rxQzzle"
      },
      "source": [
        "<center>\n",
        "<img src=\"https://github.com/baumanproject/matstat-AB/blob/main/week02_descreptive_statistics/data/logo.png?raw=1\" height=\"900\"> \n",
        "</center>\n",
        "\n",
        "\n",
        "#  Анализируем чеки\n",
        "\n",
        "В этом задании мы будем работать с покупками и чеками. Смотреть за корреляциями в покупках довольно полезно.\n",
        "\n",
        "> В 1992 году группа по консалтингу в области ритейла компании Teradata под руководством Томаса Блишока провела исследование 1.2 миллиона транзакций в 25 магазинах для ритейлера Osco Drug (Drug Store — формат разнокалиберных магазинов у дома). После анализа всех этих транзакций самым сильным правилом получилось «Между 17:00 и 19:00 чаще всего пиво и подгузники покупают вместе». К сожалению, такое правило показалось руководству Osco Drug настолько контринтуитивным, что ставить подгузники на полках рядом с пивом они не стали. Хотя объяснение паре пиво-подгузники вполне себе нашлось: когда оба члена молодой семьи возвращались с работы домой (как раз часам к 5 вечера), жены обычно отправляли мужей за подгузниками в ближайший магазин. И мужья, не долго думая, совмещали приятное с полезным — покупали подгузники по заданию жены и пиво для собственного вечернего времяпрепровождения.\n",
        "\n",
        "Для работы будем использовать датасет о продуктовых корзинах: https://www.kaggle.com/heeraldedhia/groceries-dataset"
      ]
    },
    {
      "cell_type": "code",
      "execution_count": null,
      "metadata": {
        "id": "L5fKjX_Yzzlf"
      },
      "outputs": [],
      "source": [
        "import numpy as np\n",
        "import pandas as pd\n",
        "\n",
        "import scipy.stats as sts\n",
        "import matplotlib.pyplot as plt\n",
        "import seaborn as sns\n",
        "\n",
        "plt.style.use('ggplot')  # стиль для графиков\n",
        "%matplotlib inline"
      ]
    },
    {
      "cell_type": "code",
      "source": [
        "\n",
        "! wget https://raw.githubusercontent.com/baumanproject/matstat-AB/main/week02_descreptive_statistics/data/groceries.csv"
      ],
      "metadata": {
        "id": "zHxYHgAyz8bG",
        "outputId": "5dc8a68f-570b-4059-a74e-e6a9f3b93e85",
        "colab": {
          "base_uri": "https://localhost:8080/"
        }
      },
      "execution_count": null,
      "outputs": [
        {
          "output_type": "stream",
          "name": "stdout",
          "text": [
            "--2023-03-24 13:44:05--  https://raw.githubusercontent.com/baumanproject/matstat-AB/main/week02_descreptive_statistics/data/groceries.csv\n",
            "Resolving raw.githubusercontent.com (raw.githubusercontent.com)... 185.199.110.133, 185.199.111.133, 185.199.108.133, ...\n",
            "Connecting to raw.githubusercontent.com (raw.githubusercontent.com)|185.199.110.133|:443... connected.\n",
            "HTTP request sent, awaiting response... 200 OK\n",
            "Length: 1103280 (1.1M) [text/plain]\n",
            "Saving to: ‘groceries.csv.1’\n",
            "\n",
            "\rgroceries.csv.1       0%[                    ]       0  --.-KB/s               \rgroceries.csv.1     100%[===================>]   1.05M  --.-KB/s    in 0.05s   \n",
            "\n",
            "2023-03-24 13:44:05 (20.1 MB/s) - ‘groceries.csv.1’ saved [1103280/1103280]\n",
            "\n"
          ]
        }
      ]
    },
    {
      "cell_type": "markdown",
      "metadata": {
        "id": "cj1uYftXzzlf"
      },
      "source": [
        "Подружаем данные и смотрим как они выглядят."
      ]
    },
    {
      "cell_type": "code",
      "execution_count": null,
      "metadata": {
        "id": "9tyGzWDezzlf",
        "outputId": "872a576d-9c02-4600-9d20-331ee758139c",
        "colab": {
          "base_uri": "https://localhost:8080/",
          "height": 223
        }
      },
      "outputs": [
        {
          "output_type": "stream",
          "name": "stdout",
          "text": [
            "(38765, 3)\n"
          ]
        },
        {
          "output_type": "execute_result",
          "data": {
            "text/plain": [
              "     id   fielddate           product\n",
              "0  1808  21-07-2015    tropical fruit\n",
              "1  2552  05-01-2015        whole milk\n",
              "2  2300  19-09-2015         pip fruit\n",
              "3  1187  12-12-2015  other vegetables\n",
              "4  3037  01-02-2015        whole milk"
            ],
            "text/html": [
              "\n",
              "  <div id=\"df-b3b196bf-9bae-4601-bf9d-9e8a718e25d9\">\n",
              "    <div class=\"colab-df-container\">\n",
              "      <div>\n",
              "<style scoped>\n",
              "    .dataframe tbody tr th:only-of-type {\n",
              "        vertical-align: middle;\n",
              "    }\n",
              "\n",
              "    .dataframe tbody tr th {\n",
              "        vertical-align: top;\n",
              "    }\n",
              "\n",
              "    .dataframe thead th {\n",
              "        text-align: right;\n",
              "    }\n",
              "</style>\n",
              "<table border=\"1\" class=\"dataframe\">\n",
              "  <thead>\n",
              "    <tr style=\"text-align: right;\">\n",
              "      <th></th>\n",
              "      <th>id</th>\n",
              "      <th>fielddate</th>\n",
              "      <th>product</th>\n",
              "    </tr>\n",
              "  </thead>\n",
              "  <tbody>\n",
              "    <tr>\n",
              "      <th>0</th>\n",
              "      <td>1808</td>\n",
              "      <td>21-07-2015</td>\n",
              "      <td>tropical fruit</td>\n",
              "    </tr>\n",
              "    <tr>\n",
              "      <th>1</th>\n",
              "      <td>2552</td>\n",
              "      <td>05-01-2015</td>\n",
              "      <td>whole milk</td>\n",
              "    </tr>\n",
              "    <tr>\n",
              "      <th>2</th>\n",
              "      <td>2300</td>\n",
              "      <td>19-09-2015</td>\n",
              "      <td>pip fruit</td>\n",
              "    </tr>\n",
              "    <tr>\n",
              "      <th>3</th>\n",
              "      <td>1187</td>\n",
              "      <td>12-12-2015</td>\n",
              "      <td>other vegetables</td>\n",
              "    </tr>\n",
              "    <tr>\n",
              "      <th>4</th>\n",
              "      <td>3037</td>\n",
              "      <td>01-02-2015</td>\n",
              "      <td>whole milk</td>\n",
              "    </tr>\n",
              "  </tbody>\n",
              "</table>\n",
              "</div>\n",
              "      <button class=\"colab-df-convert\" onclick=\"convertToInteractive('df-b3b196bf-9bae-4601-bf9d-9e8a718e25d9')\"\n",
              "              title=\"Convert this dataframe to an interactive table.\"\n",
              "              style=\"display:none;\">\n",
              "        \n",
              "  <svg xmlns=\"http://www.w3.org/2000/svg\" height=\"24px\"viewBox=\"0 0 24 24\"\n",
              "       width=\"24px\">\n",
              "    <path d=\"M0 0h24v24H0V0z\" fill=\"none\"/>\n",
              "    <path d=\"M18.56 5.44l.94 2.06.94-2.06 2.06-.94-2.06-.94-.94-2.06-.94 2.06-2.06.94zm-11 1L8.5 8.5l.94-2.06 2.06-.94-2.06-.94L8.5 2.5l-.94 2.06-2.06.94zm10 10l.94 2.06.94-2.06 2.06-.94-2.06-.94-.94-2.06-.94 2.06-2.06.94z\"/><path d=\"M17.41 7.96l-1.37-1.37c-.4-.4-.92-.59-1.43-.59-.52 0-1.04.2-1.43.59L10.3 9.45l-7.72 7.72c-.78.78-.78 2.05 0 2.83L4 21.41c.39.39.9.59 1.41.59.51 0 1.02-.2 1.41-.59l7.78-7.78 2.81-2.81c.8-.78.8-2.07 0-2.86zM5.41 20L4 18.59l7.72-7.72 1.47 1.35L5.41 20z\"/>\n",
              "  </svg>\n",
              "      </button>\n",
              "      \n",
              "  <style>\n",
              "    .colab-df-container {\n",
              "      display:flex;\n",
              "      flex-wrap:wrap;\n",
              "      gap: 12px;\n",
              "    }\n",
              "\n",
              "    .colab-df-convert {\n",
              "      background-color: #E8F0FE;\n",
              "      border: none;\n",
              "      border-radius: 50%;\n",
              "      cursor: pointer;\n",
              "      display: none;\n",
              "      fill: #1967D2;\n",
              "      height: 32px;\n",
              "      padding: 0 0 0 0;\n",
              "      width: 32px;\n",
              "    }\n",
              "\n",
              "    .colab-df-convert:hover {\n",
              "      background-color: #E2EBFA;\n",
              "      box-shadow: 0px 1px 2px rgba(60, 64, 67, 0.3), 0px 1px 3px 1px rgba(60, 64, 67, 0.15);\n",
              "      fill: #174EA6;\n",
              "    }\n",
              "\n",
              "    [theme=dark] .colab-df-convert {\n",
              "      background-color: #3B4455;\n",
              "      fill: #D2E3FC;\n",
              "    }\n",
              "\n",
              "    [theme=dark] .colab-df-convert:hover {\n",
              "      background-color: #434B5C;\n",
              "      box-shadow: 0px 1px 3px 1px rgba(0, 0, 0, 0.15);\n",
              "      filter: drop-shadow(0px 1px 2px rgba(0, 0, 0, 0.3));\n",
              "      fill: #FFFFFF;\n",
              "    }\n",
              "  </style>\n",
              "\n",
              "      <script>\n",
              "        const buttonEl =\n",
              "          document.querySelector('#df-b3b196bf-9bae-4601-bf9d-9e8a718e25d9 button.colab-df-convert');\n",
              "        buttonEl.style.display =\n",
              "          google.colab.kernel.accessAllowed ? 'block' : 'none';\n",
              "\n",
              "        async function convertToInteractive(key) {\n",
              "          const element = document.querySelector('#df-b3b196bf-9bae-4601-bf9d-9e8a718e25d9');\n",
              "          const dataTable =\n",
              "            await google.colab.kernel.invokeFunction('convertToInteractive',\n",
              "                                                     [key], {});\n",
              "          if (!dataTable) return;\n",
              "\n",
              "          const docLinkHtml = 'Like what you see? Visit the ' +\n",
              "            '<a target=\"_blank\" href=https://colab.research.google.com/notebooks/data_table.ipynb>data table notebook</a>'\n",
              "            + ' to learn more about interactive tables.';\n",
              "          element.innerHTML = '';\n",
              "          dataTable['output_type'] = 'display_data';\n",
              "          await google.colab.output.renderOutput(dataTable, element);\n",
              "          const docLink = document.createElement('div');\n",
              "          docLink.innerHTML = docLinkHtml;\n",
              "          element.appendChild(docLink);\n",
              "        }\n",
              "      </script>\n",
              "    </div>\n",
              "  </div>\n",
              "  "
            ]
          },
          "metadata": {},
          "execution_count": 7
        }
      ],
      "source": [
        "df = pd.read_csv('https://raw.githubusercontent.com/baumanproject/matstat-AB/main/week02_descreptive_statistics/data/groceries.csv', sep=',')\n",
        "df.columns = ['id', 'fielddate', 'product']\n",
        "print(df.shape)\n",
        "df.head()"
      ]
    },
    {
      "cell_type": "markdown",
      "metadata": {
        "id": "aylthjdYzzlf"
      },
      "source": [
        "## 1. Корреляции\n",
        "\n",
        "Для начала поработаем с корреляциями в данных. \n",
        "\n",
        "__а)__ Какой товар покупался чаще всего? Сохраните название этого товара в переменную `product_name`."
      ]
    },
    {
      "cell_type": "code",
      "execution_count": null,
      "metadata": {
        "deletable": false,
        "nbgrader": {
          "cell_type": "code",
          "checksum": "989acb2aed6b8d1e95ba1aa5ff5c8988",
          "grade": false,
          "grade_id": "cell-9d268bdaaa451d51",
          "locked": false,
          "schema_version": 3,
          "solution": true,
          "task": false
        },
        "id": "BWR6k8-vzzlf"
      },
      "outputs": [],
      "source": [
        "### ╰( ͡° ͜ʖ ͡° )つ▬▬ι═══════  bzzzzzzzzzz\n",
        "# will the code be with you\n",
        "\n",
        "# Формат ответа: строка, пример: 'pip fruit'\n",
        "# Вокруг ответа не должно быть никаких надписей array(['pip fruit']) или Index('pip fruit')\n",
        "# Это должна быть именно строка, а не строка в массиве\n",
        "product_name = ...///\n",
        "\n",
        "# your code here\n"
      ]
    },
    {
      "cell_type": "code",
      "execution_count": null,
      "metadata": {
        "deletable": false,
        "editable": false,
        "nbgrader": {
          "cell_type": "code",
          "checksum": "153389c55c6243d7b8897ca0e33be5a5",
          "grade": true,
          "grade_id": "cell-2fd1cfdcf5400ee3",
          "locked": true,
          "points": 1,
          "schema_version": 3,
          "solution": false,
          "task": false
        },
        "id": "lhhv-5BMzzlg"
      },
      "outputs": [],
      "source": [
        "# проверка, что задание решено корректно\n",
        "assert len(product_name) == 10\n",
        "\n",
        "# Аналогичные тесты скрыты от вас"
      ]
    },
    {
      "cell_type": "markdown",
      "metadata": {
        "id": "xAYk8vqazzlg"
      },
      "source": [
        "__б)__ Сколько всего уникальных заказов было сделано? Сохраните число заказов в переменную `n_cnt`."
      ]
    },
    {
      "cell_type": "code",
      "execution_count": null,
      "metadata": {
        "deletable": false,
        "nbgrader": {
          "cell_type": "code",
          "checksum": "057496e296948a782d9b48f9b4ea3815",
          "grade": false,
          "grade_id": "cell-4c3ce54e9c52ae14",
          "locked": false,
          "schema_version": 3,
          "solution": true,
          "task": false
        },
        "id": "FUVyNFXZzzlg"
      },
      "outputs": [],
      "source": [
        "### ╰( ͡° ͜ʖ ͡° )つ▬▬ι═══════  bzzzzzzzzzz\n",
        "# will the code be with you\n",
        "\n",
        "# Формат ответа: целое число, пример: 5555\n",
        "n_cnt = ...\n",
        "\n",
        "# your code here\n"
      ]
    },
    {
      "cell_type": "code",
      "execution_count": null,
      "metadata": {
        "deletable": false,
        "editable": false,
        "nbgrader": {
          "cell_type": "code",
          "checksum": "f93cfd87b43b743e88a4a21d5a773f5e",
          "grade": true,
          "grade_id": "cell-608432c41bdcd71d",
          "locked": true,
          "points": 1,
          "schema_version": 3,
          "solution": false,
          "task": false
        },
        "id": "xjX5g8txzzlg"
      },
      "outputs": [],
      "source": [
        "# проверка, что задание решено корректно\n",
        "assert n_cnt > 3800\n",
        "assert n_cnt < 4000\n",
        "\n",
        "# Аналогичные тесты скрыты от вас"
      ]
    },
    {
      "cell_type": "markdown",
      "metadata": {
        "id": "F6brPvanzzlg"
      },
      "source": [
        "В таблице выше в каждой строке записана информация о покупке конкретного товара. Давайте сделаем табличку размера \"число товаров\" на \"число покупок\", чтобы понимать какие товары покупались вместе, а какие нет. \n",
        "\n",
        "> Обратите внимание, то здесь задание немного упрощено. Вообще говоря, нам нужно делать агрегацию по паре `fielddate, id`, если мы хотим изучать чеки по-честному. Но мы делаем её только по `id` для того, чтобы не усложнять задание. В качестве необязательного дополнения вы можете после сдачи задания переделать код так, чтобы дата тоже учитывалась при расчётах. "
      ]
    },
    {
      "cell_type": "code",
      "execution_count": null,
      "metadata": {
        "id": "hiBqJWXszzlg"
      },
      "outputs": [],
      "source": [
        "sparse_sales = pd.pivot_table(df, \n",
        "               values='fielddate', \n",
        "               index='id', \n",
        "               columns='product', \n",
        "               fill_value=0, aggfunc='count')\n",
        "\n",
        "sparse_sales.head()"
      ]
    },
    {
      "cell_type": "markdown",
      "metadata": {
        "id": "DZ2hmEX9zzlg"
      },
      "source": [
        "В нашей матрице огромное число нулей. Обычно такие матрицы называют разряжеными. Мы занимаем нулями кучу свободной памяти, которую мы могли бы не занимать, если бы хранили данные [в ином виде.](https://cmdlinetips.com/2018/03/sparse-matrices-in-python-with-scipy/)"
      ]
    },
    {
      "cell_type": "markdown",
      "metadata": {
        "id": "4jNie92Kzzlh"
      },
      "source": [
        "__в)__ Постройте матрицу корреляций Пирсона. Для этого используйте метод таблицы `.corr`."
      ]
    },
    {
      "cell_type": "code",
      "execution_count": null,
      "metadata": {
        "deletable": false,
        "nbgrader": {
          "cell_type": "code",
          "checksum": "1f316bc47a0a361a6abdfb0740156e24",
          "grade": false,
          "grade_id": "cell-a8f15b8ba3a946c8",
          "locked": false,
          "schema_version": 3,
          "solution": true,
          "task": false
        },
        "id": "2MWu_ys2zzlh"
      },
      "outputs": [],
      "source": [
        "### ╰( ͡° ͜ʖ ͡° )つ▬▬ι═══════  bzzzzzzzzzz\n",
        "# will the code be with you\n",
        "\n",
        "# Формат ответа: таблица pd.DataFrame размера (167, 167)\n",
        "sales_correlation = ...\n",
        "\n",
        "# your code here\n"
      ]
    },
    {
      "cell_type": "markdown",
      "metadata": {
        "id": "ITR5CUk0zzlh"
      },
      "source": [
        "Какие продукты сильнее всего коррелируют с яйцами, `domestic eggs` (их чаще всего покупают вместе)?  Сохраните название самого скоррелированного продукта в переменную `top_1`."
      ]
    },
    {
      "cell_type": "code",
      "execution_count": null,
      "metadata": {
        "deletable": false,
        "nbgrader": {
          "cell_type": "code",
          "checksum": "678a180e150dcff0fd0b246353de1e61",
          "grade": false,
          "grade_id": "cell-cf20442762e0f104",
          "locked": false,
          "schema_version": 3,
          "solution": true,
          "task": false
        },
        "id": "O5JaKofMzzlh"
      },
      "outputs": [],
      "source": [
        "### ╰( ͡° ͜ʖ ͡° )つ▬▬ι═══════  bzzzzzzzzzz\n",
        "# will the code be with you\n",
        "\n",
        "# Формат ответа: строка, пример: 'pip fruit'\n",
        "# Вокруг ответа не должно быть никаких надписей array(['pip fruit']) или Index('pip fruit')\n",
        "# Это должна быть именно строка, а не строка в массиве\n",
        "top_1 = ...\n",
        "\n",
        "# your code here\n"
      ]
    },
    {
      "cell_type": "markdown",
      "metadata": {
        "id": "lmFbv_Nqzzlh"
      },
      "source": [
        "Какие продукты \"мешают\" купить яйца, то есть отрицательно коррелируют с их покупкой? Сохраните название продукта с самой большой отрицательной корреляцией в переменную `bottom_1`."
      ]
    },
    {
      "cell_type": "code",
      "execution_count": null,
      "metadata": {
        "deletable": false,
        "nbgrader": {
          "cell_type": "code",
          "checksum": "a69d93d0bdb0f94a8c15081269d5a6cf",
          "grade": false,
          "grade_id": "cell-fbd202e1529e31c7",
          "locked": false,
          "schema_version": 3,
          "solution": true,
          "task": false
        },
        "id": "6gQImrd3zzlh"
      },
      "outputs": [],
      "source": [
        "### ╰( ͡° ͜ʖ ͡° )つ▬▬ι═══════  bzzzzzzzzzz\n",
        "# will the code be with you\n",
        "\n",
        "# Формат ответа: строка, пример: 'pip fruit'\n",
        "# Вокруг ответа не должно быть никаких надписей array(['pip fruit']) или Index('pip fruit')\n",
        "# Это должна быть именно строка, а не строка в массиве\n",
        "bottom_1 = ...\n",
        "\n",
        "# your code here\n"
      ]
    },
    {
      "cell_type": "code",
      "execution_count": null,
      "metadata": {
        "deletable": false,
        "editable": false,
        "nbgrader": {
          "cell_type": "code",
          "checksum": "6ac2ce2c786529bbf15bc7a6d8e5b419",
          "grade": true,
          "grade_id": "cell-d070d4a1a7bde720",
          "locked": true,
          "points": 1,
          "schema_version": 3,
          "solution": false,
          "task": false
        },
        "id": "iYAzUGJFzzlh"
      },
      "outputs": [],
      "source": [
        "# проверка, что задание решено корректно\n",
        "assert len(bottom_1) == 8\n",
        "assert len(top_1) == 12\n",
        "\n",
        "# Аналогичные тесты скрыты от вас"
      ]
    },
    {
      "cell_type": "markdown",
      "metadata": {
        "id": "atejoi_izzlh"
      },
      "source": [
        "Напишите код, который выводит самые коррелируемые товары для случайного продукта из списка `unique_products`."
      ]
    },
    {
      "cell_type": "code",
      "execution_count": null,
      "metadata": {
        "deletable": false,
        "nbgrader": {
          "cell_type": "code",
          "checksum": "d9963e0690e8f979766ae92f7c9e1637",
          "grade": false,
          "grade_id": "cell-50a7be49564df467",
          "locked": false,
          "schema_version": 3,
          "solution": true,
          "task": false
        },
        "id": "qpHwQAF3zzli"
      },
      "outputs": [],
      "source": [
        "### ╰( ͡° ͜ʖ ͡° )つ▬▬ι═══════  bzzzzzzzzzz\n",
        "# will the code be with you\n",
        "\n",
        "unique_products = df['product'].unique()\n",
        "\n",
        "# your code here\n"
      ]
    },
    {
      "cell_type": "markdown",
      "metadata": {
        "id": "C3i8Km96zzli"
      },
      "source": [
        "__г)__ Какие два продукта коррелируют сильнее всего? Положите их название в лист `answer`"
      ]
    },
    {
      "cell_type": "code",
      "execution_count": null,
      "metadata": {
        "deletable": false,
        "nbgrader": {
          "cell_type": "code",
          "checksum": "a1a02722726bdf7cbe654db4c3218c07",
          "grade": false,
          "grade_id": "cell-dd462f4db3d9a2f7",
          "locked": false,
          "schema_version": 3,
          "solution": true,
          "task": false
        },
        "id": "8wOpp9WVzzli"
      },
      "outputs": [],
      "source": [
        "### ╰( ͡° ͜ʖ ͡° )つ▬▬ι═══════  bzzzzzzzzzz\n",
        "# will the code be with you\n",
        "\n",
        "# Формат ответа: массив из строк, пример: ['soups', 'apple', 'iphone 18']\n",
        "answer = ... \n",
        "\n",
        "# your code here\n"
      ]
    },
    {
      "cell_type": "code",
      "execution_count": null,
      "metadata": {
        "deletable": false,
        "editable": false,
        "nbgrader": {
          "cell_type": "code",
          "checksum": "6ff9da58bc1861cd17f35b979e3d3e41",
          "grade": true,
          "grade_id": "cell-894ff9bec07f24e0",
          "locked": true,
          "points": 1,
          "schema_version": 3,
          "solution": false,
          "task": false
        },
        "id": "VWcvU-r2zzli"
      },
      "outputs": [],
      "source": [
        "# проверка, что задание решено корректно\n",
        "assert 'soups' in answer\n",
        "\n",
        "# Аналогичные тесты скрыты от вас"
      ]
    },
    {
      "cell_type": "markdown",
      "metadata": {
        "id": "_GZawKsazzli"
      },
      "source": [
        "Конечно же, корреляция — это [не единственный способ искать](https://habr.com/ru/company/ods/blog/353502/) между покупками ассоциативные правила."
      ]
    },
    {
      "cell_type": "markdown",
      "metadata": {
        "id": "zxZa8cyEzzli"
      },
      "source": [
        "## 2. Зависимость. \n",
        "\n",
        "В лекции мы с вами сказали, что события $A$ и $B$ называются независимыми, если $P(AB) = P(A)\\cdot P(B)$. Отталкиваясь от этого определения, можно ввести другую характеристику, которая показывает, насколько продукты зависят друг от друга, а именно __поддержку (lift).__ \n",
        "\n",
        "$$\n",
        "lift = \\frac{P(AB)}{P(A)\\cdot P(B)}\n",
        "$$"
      ]
    },
    {
      "cell_type": "markdown",
      "metadata": {
        "id": "mGfRJyqFzzli"
      },
      "source": [
        "Эта метрика описывает отношение зависимости товаров к их независимости. Если оказалось, что `lift = 1`, это означает, что покупка товара $A$ не зависит от покупки товара $B$. Если `lift > 1`, то это означает, что вероятность встретить оба товара в чеке, $P(AB)$ высокая, то есть товары покупают вместе. Если `lift < 1`, это означает, что товары, наоборот, очень часто покупают по-отдельности. "
      ]
    },
    {
      "cell_type": "markdown",
      "metadata": {
        "id": "IXVzpijwzzli"
      },
      "source": [
        "__д)__ Посчитайте значение нашей метрики для яиц и молока (`'whole milk', 'domestic eggs'`). Запишите получившиеся значение метрики в переменную `answer`.\n",
        "\n",
        "> Вам аккуратно нужно сделать три среза по условию  `>= 1`. Там, где пара надо делать срез так, чтобы оба товара дали `True`. Сделать это в одну строку вам поможет метод `.all(axis=1)`. Частоты можно получить методом `.mean()`, так как python думает, что `False` - это ноль, а `True` - это единица."
      ]
    },
    {
      "cell_type": "code",
      "execution_count": null,
      "metadata": {
        "deletable": false,
        "nbgrader": {
          "cell_type": "code",
          "checksum": "7f3a2317b0d46f2e40f1180f36e55dd6",
          "grade": false,
          "grade_id": "cell-db191a336be19f97",
          "locked": false,
          "schema_version": 3,
          "solution": true,
          "task": false
        },
        "id": "EERP-b0Ezzli"
      },
      "outputs": [],
      "source": [
        "### ╰( ͡° ͜ʖ ͡° )つ▬▬ι═══════  bzzzzzzzzzz\n",
        "# will the code be with you\n",
        "\n",
        "# Формат ответа: действительное чиссло, пример: 3.1418281828\n",
        "answer = ...\n",
        "\n",
        "# your code here\n"
      ]
    },
    {
      "cell_type": "code",
      "execution_count": null,
      "metadata": {
        "deletable": false,
        "editable": false,
        "nbgrader": {
          "cell_type": "code",
          "checksum": "ae6b5fdfedb6956db845d780ce9bfbf0",
          "grade": true,
          "grade_id": "cell-c2f789696293a0b3",
          "locked": true,
          "points": 1,
          "schema_version": 3,
          "solution": false,
          "task": false
        },
        "id": "4qSPW8gMzzli"
      },
      "outputs": [],
      "source": [
        "# проверка, что задание решено корректно\n",
        "assert answer < 3\n",
        "assert answer > 1\n",
        "\n",
        "# Аналогичные тесты скрыты от вас"
      ]
    },
    {
      "cell_type": "markdown",
      "metadata": {
        "id": "5lz2Tcvxzzli"
      },
      "source": [
        "__е)__ Посчитайте значение метрики для всех пар продуктов из датасета. Сохраните значения в словарик `dict`. В качестве ключа используете кортеж из пары продуктов. Чтобы удобнее было перебрать все сочетания, используйте `combinations` из модуля `itertools`.\n",
        "\n",
        "Чтобы при подсчётах не возникало деления на ноль, добавьте к знаменателю маленькое число, например `1e-10`."
      ]
    },
    {
      "cell_type": "code",
      "execution_count": null,
      "metadata": {
        "deletable": false,
        "nbgrader": {
          "cell_type": "code",
          "checksum": "26f315f8a90daedcda97ffc328155445",
          "grade": false,
          "grade_id": "cell-e512719bd3dbbd34",
          "locked": false,
          "schema_version": 3,
          "solution": true,
          "task": false
        },
        "id": "2BBY5JOYzzlj"
      },
      "outputs": [],
      "source": [
        "### ╰( ͡° ͜ʖ ͡° )つ▬▬ι═══════  bzzzzzzzzzz\n",
        "# will the code be with you\n",
        "\n",
        "# your code here\n"
      ]
    },
    {
      "cell_type": "markdown",
      "metadata": {
        "id": "abIcfdr_zzlj"
      },
      "source": [
        "Сколько пар продуктов покупали вместе хотя бы раз? Запишите ответ в переменную `answer`."
      ]
    },
    {
      "cell_type": "code",
      "execution_count": null,
      "metadata": {
        "deletable": false,
        "nbgrader": {
          "cell_type": "code",
          "checksum": "eefa1ae8918a171dac3c431005fe824a",
          "grade": false,
          "grade_id": "cell-097e70120aa5a596",
          "locked": false,
          "schema_version": 3,
          "solution": true,
          "task": false
        },
        "id": "h9DYOBI5zzlj"
      },
      "outputs": [],
      "source": [
        "### ╰( ͡° ͜ʖ ͡° )つ▬▬ι═══════  bzzzzzzzzzz\n",
        "# will the code be with you\n",
        "\n",
        "# Формат ответа: целое число, пример: 5555\n",
        "answer = ...\n",
        "\n",
        "# your code here\n"
      ]
    },
    {
      "cell_type": "markdown",
      "metadata": {
        "id": "BP3SfoBozzlj"
      },
      "source": [
        "Для какой пары продуктов метрика $lift$ оказалась самой большой? "
      ]
    },
    {
      "cell_type": "code",
      "execution_count": null,
      "metadata": {
        "deletable": false,
        "nbgrader": {
          "cell_type": "code",
          "checksum": "3935f2223dddf3a9658a90034e2ebd5d",
          "grade": false,
          "grade_id": "cell-e0e772420c99a1f4",
          "locked": false,
          "schema_version": 3,
          "solution": true,
          "task": false
        },
        "id": "yD2SDhwwzzlj"
      },
      "outputs": [],
      "source": [
        "### ╰( ͡° ͜ʖ ͡° )つ▬▬ι═══════  bzzzzzzzzzz\n",
        "# will the code be with you\n",
        "\n",
        "# your code here\n"
      ]
    },
    {
      "cell_type": "markdown",
      "metadata": {
        "id": "_PshSx-Gzzlj"
      },
      "source": [
        "Сколько раз эти продукты встретились в выборке? Как думаете адеватно ли делать выводы по такому объёму данных? "
      ]
    },
    {
      "cell_type": "code",
      "execution_count": null,
      "metadata": {
        "deletable": false,
        "nbgrader": {
          "cell_type": "code",
          "checksum": "dc2e17f19344df8a8e09d989c31e436b",
          "grade": false,
          "grade_id": "cell-cfbf5b5deb321f36",
          "locked": false,
          "schema_version": 3,
          "solution": true,
          "task": false
        },
        "id": "IrjlUTwRzzlj"
      },
      "outputs": [],
      "source": [
        "### ╰( ͡° ͜ʖ ͡° )つ▬▬ι═══════  bzzzzzzzzzz\n",
        "# will the code be with you\n",
        "\n",
        "# your code here\n"
      ]
    },
    {
      "cell_type": "markdown",
      "metadata": {
        "id": "4X2Spgz8zzlj"
      },
      "source": [
        "Для какой пары продуктов метрика оказывается самой маленькой? "
      ]
    },
    {
      "cell_type": "code",
      "execution_count": null,
      "metadata": {
        "deletable": false,
        "nbgrader": {
          "cell_type": "code",
          "checksum": "a4a911333c146c4d9ec09e8f51a5fb6c",
          "grade": false,
          "grade_id": "cell-0c88c82cc7bdef09",
          "locked": false,
          "schema_version": 3,
          "solution": true,
          "task": false
        },
        "id": "AtX83eH5zzlj"
      },
      "outputs": [],
      "source": [
        "### ╰( ͡° ͜ʖ ͡° )つ▬▬ι═══════  bzzzzzzzzzz\n",
        "# will the code be with you\n",
        "\n",
        "# your code here\n"
      ]
    },
    {
      "cell_type": "code",
      "execution_count": null,
      "metadata": {
        "deletable": false,
        "editable": false,
        "nbgrader": {
          "cell_type": "code",
          "checksum": "c15571d658306ab43839bcf4d8e42bae",
          "grade": true,
          "grade_id": "cell-b7f41317d840457e",
          "locked": true,
          "points": 1,
          "schema_version": 3,
          "solution": false,
          "task": false
        },
        "id": "JQ0WiMY0zzlj"
      },
      "outputs": [],
      "source": [
        "# проверка, что задание решено корректно\n",
        "\n",
        "assert answer < 10000\n",
        "assert answer > 9000\n",
        "\n",
        "# Аналогичные тесты скрыты от вас"
      ]
    },
    {
      "cell_type": "markdown",
      "metadata": {
        "id": "0LXPsr6Czzlj"
      },
      "source": [
        "## 3. Неоцениваемые задания\n",
        "\n",
        "Выше мы увидели, что некоторые продукты встречаются в выборке очень редко. Понятное дело, что по ним у нас не получится построить хорошее ассоциативное правило. Попробуйте повторить расчёт той же метрики, но с условием что продукт покупали больше 10 раз. Изучите самые покупаемые вместе продукты и самые непокупаемые вместе продукты. Насколько сильно список отличается от полученного в предыдущем задании? "
      ]
    },
    {
      "cell_type": "code",
      "execution_count": null,
      "metadata": {
        "deletable": false,
        "nbgrader": {
          "cell_type": "code",
          "checksum": "99e685544038e446e2d67bd1cd4f6a3c",
          "grade": false,
          "grade_id": "cell-aa30f3933e22e20d",
          "locked": false,
          "schema_version": 3,
          "solution": true,
          "task": false
        },
        "id": "DUL6C0Bezzlj"
      },
      "outputs": [],
      "source": [
        "### ╰( ͡° ͜ʖ ͡° )つ▬▬ι═══════  bzzzzzzzzzz\n",
        "# will the code be with you\n",
        "\n",
        "# your code here\n"
      ]
    },
    {
      "cell_type": "markdown",
      "metadata": {
        "id": "fpniSO5Nzzlk"
      },
      "source": [
        "Иногда в чеках пытаются искать __продукты-якоря.__ То есть продукты, которые являются основными. Например: айфон - основной продукт, наушники и чехол - дополнения к нему. Подумайте как можно попытаться найти такие продукты на основе простых метрик, основанных на подсчёте условных вероятностей."
      ]
    },
    {
      "cell_type": "markdown",
      "metadata": {
        "id": "BGH5zybozzlk"
      },
      "source": [
        "<center>\n",
        "<img src=\"https://pp.userapi.com/c638028/v638028181/52e5e/1X-dkzNN1hk.jpg\" width=\"400\"> \n",
        "</center>"
      ]
    },
    {
      "cell_type": "markdown",
      "metadata": {
        "id": "CUiFFBL0zzlk"
      },
      "source": [
        " "
      ]
    }
  ],
  "metadata": {
    "kernelspec": {
      "display_name": "Python 3",
      "language": "python",
      "name": "python3"
    },
    "language_info": {
      "codemirror_mode": {
        "name": "ipython",
        "version": 3
      },
      "file_extension": ".py",
      "mimetype": "text/x-python",
      "name": "python",
      "nbconvert_exporter": "python",
      "pygments_lexer": "ipython3",
      "version": "3.7.6"
    },
    "colab": {
      "provenance": []
    }
  },
  "nbformat": 4,
  "nbformat_minor": 0
}
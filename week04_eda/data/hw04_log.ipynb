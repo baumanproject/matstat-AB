{
  "cells": [
    {
      "cell_type": "markdown",
      "metadata": {
        "id": "gA-3tNWUqYoW"
      },
      "source": [
        "<center>\n",
        "<img src=\"https://github.com/baumanproject/matstat-AB/blob/main/week04_eda/data/logo.png?raw=1\" height=\"900\"> \n",
        "</center>\n",
        "\n",
        "\n",
        "#  Логи магазина\n",
        "\n",
        "В файле `walmart.csv` нам предоставлены исторические данные о продажах магазинов Walmart, расположенных в разных регионах.\n",
        "\n",
        "Нам доступны следующие переменные:\n",
        "\n",
        "* **Date** – дата;\n",
        "* **Store** – номер магазина;\n",
        "* **Dept** – номер отдела;\n",
        "* **Weekly_Sales** – объём продаж в данную неделю в данном отделе\n",
        "* **Type** – тип магазина;\n",
        "* **Size** – размер магазина;\n",
        "* **IsHoliday** – является ли неделя праздничной;\n",
        "* **Temperature** – средняя температура в регионе в градусах по Фаренгейту;\n",
        "* **Fuel_Price** – стоимость топлива в регионе;\n",
        "* **MarkDown1-5** – данные, связанные с рекламными уценками, которые запускает Walmart. Данные уценки доступны только после ноября 2011 года и доступны не для всех магазинов. Данные анонимизированы. Непонятно на какие именно товары производилась уценка и в каких количествах. Компании часто анонимизируют данные, когда выкладывают их в открытый доступ.\n",
        "* **CPI** – индекс потребительских цен;\n",
        "* **Unemployment** – уровень безработицы."
      ]
    },
    {
      "cell_type": "markdown",
      "metadata": {
        "id": "NQjhJQXyqYoY"
      },
      "source": [
        "__а)__ Подгрузите все необходимые для работы библиотеки."
      ]
    },
    {
      "cell_type": "code",
      "execution_count": 1,
      "metadata": {
        "id": "cnF7n-66qYoY",
        "outputId": "b1365783-efa2-4dbb-fe9d-f0fd2e5e0cb7",
        "colab": {
          "base_uri": "https://localhost:8080/"
        }
      },
      "outputs": [
        {
          "output_type": "stream",
          "name": "stdout",
          "text": [
            "Looking in indexes: https://pypi.org/simple, https://us-python.pkg.dev/colab-wheels/public/simple/\n",
            "Collecting plotly_express\n",
            "  Downloading plotly_express-0.4.1-py2.py3-none-any.whl (2.9 kB)\n",
            "Requirement already satisfied: scipy>=0.18 in /usr/local/lib/python3.9/dist-packages (from plotly_express) (1.10.1)\n",
            "Requirement already satisfied: pandas>=0.20.0 in /usr/local/lib/python3.9/dist-packages (from plotly_express) (1.4.4)\n",
            "Requirement already satisfied: plotly>=4.1.0 in /usr/local/lib/python3.9/dist-packages (from plotly_express) (5.13.1)\n",
            "Requirement already satisfied: statsmodels>=0.9.0 in /usr/local/lib/python3.9/dist-packages (from plotly_express) (0.13.5)\n",
            "Requirement already satisfied: patsy>=0.5 in /usr/local/lib/python3.9/dist-packages (from plotly_express) (0.5.3)\n",
            "Requirement already satisfied: numpy>=1.11 in /usr/local/lib/python3.9/dist-packages (from plotly_express) (1.22.4)\n",
            "Requirement already satisfied: python-dateutil>=2.8.1 in /usr/local/lib/python3.9/dist-packages (from pandas>=0.20.0->plotly_express) (2.8.2)\n",
            "Requirement already satisfied: pytz>=2020.1 in /usr/local/lib/python3.9/dist-packages (from pandas>=0.20.0->plotly_express) (2022.7.1)\n",
            "Requirement already satisfied: six in /usr/local/lib/python3.9/dist-packages (from patsy>=0.5->plotly_express) (1.16.0)\n",
            "Requirement already satisfied: tenacity>=6.2.0 in /usr/local/lib/python3.9/dist-packages (from plotly>=4.1.0->plotly_express) (8.2.2)\n",
            "Requirement already satisfied: packaging>=21.3 in /usr/local/lib/python3.9/dist-packages (from statsmodels>=0.9.0->plotly_express) (23.0)\n",
            "Installing collected packages: plotly_express\n",
            "Successfully installed plotly_express-0.4.1\n"
          ]
        }
      ],
      "source": [
        "!pip install plotly_express"
      ]
    },
    {
      "cell_type": "code",
      "source": [
        "! wget https://raw.githubusercontent.com/baumanproject/matstat-AB/main/week04_eda/data/walmart.csv"
      ],
      "metadata": {
        "id": "L2JuMe27qh0C",
        "outputId": "e39a19dc-75da-4d2a-9534-baad797b491e",
        "colab": {
          "base_uri": "https://localhost:8080/"
        }
      },
      "execution_count": 2,
      "outputs": [
        {
          "output_type": "stream",
          "name": "stdout",
          "text": [
            "--2023-03-28 14:40:38--  https://raw.githubusercontent.com/baumanproject/matstat-AB/main/week04_eda/data/walmart.csv\n",
            "Resolving raw.githubusercontent.com (raw.githubusercontent.com)... 185.199.108.133, 185.199.109.133, 185.199.110.133, ...\n",
            "Connecting to raw.githubusercontent.com (raw.githubusercontent.com)|185.199.108.133|:443... connected.\n",
            "HTTP request sent, awaiting response... 200 OK\n",
            "Length: 36906636 (35M) [text/plain]\n",
            "Saving to: ‘walmart.csv’\n",
            "\n",
            "walmart.csv         100%[===================>]  35.20M   135MB/s    in 0.3s    \n",
            "\n",
            "2023-03-28 14:40:39 (135 MB/s) - ‘walmart.csv’ saved [36906636/36906636]\n",
            "\n"
          ]
        }
      ]
    },
    {
      "cell_type": "markdown",
      "metadata": {
        "id": "_gf5ERHzqYoZ"
      },
      "source": [
        "__б)__ Загрузите файл с данными. Отобразите первые и последние 5 наблюдений. Выведите на экран тип колонок. Приведите колонку `Date` к формату даты. В переменную `ans1` запишите число строк, которое есть в таблице. "
      ]
    },
    {
      "cell_type": "code",
      "execution_count": null,
      "metadata": {
        "deletable": false,
        "nbgrader": {
          "cell_type": "code",
          "checksum": "a2bd3c9018e282c031e36c7e34799da0",
          "grade": false,
          "grade_id": "cell-7f87b00b27eb5510",
          "locked": false,
          "schema_version": 3,
          "solution": true,
          "task": false
        },
        "id": "eFxVPX9FqYoZ"
      },
      "outputs": [],
      "source": [
        "### ╰( ͡° ͜ʖ ͡° )つ▬▬ι═══════  bzzzzzzzzzz\n",
        "# will the code be with you\n",
        "\n",
        "# Формат ответа: целое число, пример: 510782\n",
        "#ans1 = ...\n",
        "\n",
        "# your code here\n",
        "import pandas as pd\n",
        "\n",
        "df = pd.read_csv(\"walmart.csv\")\n"
      ]
    },
    {
      "cell_type": "code",
      "source": [
        "df.head(5)"
      ],
      "metadata": {
        "id": "elePKgVTwArV",
        "outputId": "bda8182c-2b6b-4f68-886a-9aab51e9cb11",
        "colab": {
          "base_uri": "https://localhost:8080/",
          "height": 206
        }
      },
      "execution_count": 6,
      "outputs": [
        {
          "output_type": "execute_result",
          "data": {
            "text/plain": [
              "   Store        Date  Dept  Weekly_Sales  IsHoliday Type    Size  Temperature  \\\n",
              "0      1  2010-02-05     1      24924.50      False    A  151315        42.31   \n",
              "1      1  2010-02-12     1      46039.49       True    A  151315        38.51   \n",
              "2      1  2010-02-19     1      41595.55      False    A  151315        39.93   \n",
              "3      1  2010-02-26     1      19403.54      False    A  151315        46.63   \n",
              "4      1  2010-03-05     1      21827.90      False    A  151315        46.50   \n",
              "\n",
              "   Fuel_Price  MarkDown1  MarkDown2  MarkDown3  MarkDown4  MarkDown5  \\\n",
              "0       2.572        NaN        NaN        NaN        NaN        NaN   \n",
              "1       2.548        NaN        NaN        NaN        NaN        NaN   \n",
              "2       2.514        NaN        NaN        NaN        NaN        NaN   \n",
              "3       2.561        NaN        NaN        NaN        NaN        NaN   \n",
              "4       2.625        NaN        NaN        NaN        NaN        NaN   \n",
              "\n",
              "          CPI  Unemployment  \n",
              "0  211.096358         8.106  \n",
              "1  211.242170         8.106  \n",
              "2  211.289143         8.106  \n",
              "3  211.319643         8.106  \n",
              "4  211.350143         8.106  "
            ],
            "text/html": [
              "\n",
              "  <div id=\"df-8bfcea09-a3b6-42b7-9d3f-e0fb40482903\">\n",
              "    <div class=\"colab-df-container\">\n",
              "      <div>\n",
              "<style scoped>\n",
              "    .dataframe tbody tr th:only-of-type {\n",
              "        vertical-align: middle;\n",
              "    }\n",
              "\n",
              "    .dataframe tbody tr th {\n",
              "        vertical-align: top;\n",
              "    }\n",
              "\n",
              "    .dataframe thead th {\n",
              "        text-align: right;\n",
              "    }\n",
              "</style>\n",
              "<table border=\"1\" class=\"dataframe\">\n",
              "  <thead>\n",
              "    <tr style=\"text-align: right;\">\n",
              "      <th></th>\n",
              "      <th>Store</th>\n",
              "      <th>Date</th>\n",
              "      <th>Dept</th>\n",
              "      <th>Weekly_Sales</th>\n",
              "      <th>IsHoliday</th>\n",
              "      <th>Type</th>\n",
              "      <th>Size</th>\n",
              "      <th>Temperature</th>\n",
              "      <th>Fuel_Price</th>\n",
              "      <th>MarkDown1</th>\n",
              "      <th>MarkDown2</th>\n",
              "      <th>MarkDown3</th>\n",
              "      <th>MarkDown4</th>\n",
              "      <th>MarkDown5</th>\n",
              "      <th>CPI</th>\n",
              "      <th>Unemployment</th>\n",
              "    </tr>\n",
              "  </thead>\n",
              "  <tbody>\n",
              "    <tr>\n",
              "      <th>0</th>\n",
              "      <td>1</td>\n",
              "      <td>2010-02-05</td>\n",
              "      <td>1</td>\n",
              "      <td>24924.50</td>\n",
              "      <td>False</td>\n",
              "      <td>A</td>\n",
              "      <td>151315</td>\n",
              "      <td>42.31</td>\n",
              "      <td>2.572</td>\n",
              "      <td>NaN</td>\n",
              "      <td>NaN</td>\n",
              "      <td>NaN</td>\n",
              "      <td>NaN</td>\n",
              "      <td>NaN</td>\n",
              "      <td>211.096358</td>\n",
              "      <td>8.106</td>\n",
              "    </tr>\n",
              "    <tr>\n",
              "      <th>1</th>\n",
              "      <td>1</td>\n",
              "      <td>2010-02-12</td>\n",
              "      <td>1</td>\n",
              "      <td>46039.49</td>\n",
              "      <td>True</td>\n",
              "      <td>A</td>\n",
              "      <td>151315</td>\n",
              "      <td>38.51</td>\n",
              "      <td>2.548</td>\n",
              "      <td>NaN</td>\n",
              "      <td>NaN</td>\n",
              "      <td>NaN</td>\n",
              "      <td>NaN</td>\n",
              "      <td>NaN</td>\n",
              "      <td>211.242170</td>\n",
              "      <td>8.106</td>\n",
              "    </tr>\n",
              "    <tr>\n",
              "      <th>2</th>\n",
              "      <td>1</td>\n",
              "      <td>2010-02-19</td>\n",
              "      <td>1</td>\n",
              "      <td>41595.55</td>\n",
              "      <td>False</td>\n",
              "      <td>A</td>\n",
              "      <td>151315</td>\n",
              "      <td>39.93</td>\n",
              "      <td>2.514</td>\n",
              "      <td>NaN</td>\n",
              "      <td>NaN</td>\n",
              "      <td>NaN</td>\n",
              "      <td>NaN</td>\n",
              "      <td>NaN</td>\n",
              "      <td>211.289143</td>\n",
              "      <td>8.106</td>\n",
              "    </tr>\n",
              "    <tr>\n",
              "      <th>3</th>\n",
              "      <td>1</td>\n",
              "      <td>2010-02-26</td>\n",
              "      <td>1</td>\n",
              "      <td>19403.54</td>\n",
              "      <td>False</td>\n",
              "      <td>A</td>\n",
              "      <td>151315</td>\n",
              "      <td>46.63</td>\n",
              "      <td>2.561</td>\n",
              "      <td>NaN</td>\n",
              "      <td>NaN</td>\n",
              "      <td>NaN</td>\n",
              "      <td>NaN</td>\n",
              "      <td>NaN</td>\n",
              "      <td>211.319643</td>\n",
              "      <td>8.106</td>\n",
              "    </tr>\n",
              "    <tr>\n",
              "      <th>4</th>\n",
              "      <td>1</td>\n",
              "      <td>2010-03-05</td>\n",
              "      <td>1</td>\n",
              "      <td>21827.90</td>\n",
              "      <td>False</td>\n",
              "      <td>A</td>\n",
              "      <td>151315</td>\n",
              "      <td>46.50</td>\n",
              "      <td>2.625</td>\n",
              "      <td>NaN</td>\n",
              "      <td>NaN</td>\n",
              "      <td>NaN</td>\n",
              "      <td>NaN</td>\n",
              "      <td>NaN</td>\n",
              "      <td>211.350143</td>\n",
              "      <td>8.106</td>\n",
              "    </tr>\n",
              "  </tbody>\n",
              "</table>\n",
              "</div>\n",
              "      <button class=\"colab-df-convert\" onclick=\"convertToInteractive('df-8bfcea09-a3b6-42b7-9d3f-e0fb40482903')\"\n",
              "              title=\"Convert this dataframe to an interactive table.\"\n",
              "              style=\"display:none;\">\n",
              "        \n",
              "  <svg xmlns=\"http://www.w3.org/2000/svg\" height=\"24px\"viewBox=\"0 0 24 24\"\n",
              "       width=\"24px\">\n",
              "    <path d=\"M0 0h24v24H0V0z\" fill=\"none\"/>\n",
              "    <path d=\"M18.56 5.44l.94 2.06.94-2.06 2.06-.94-2.06-.94-.94-2.06-.94 2.06-2.06.94zm-11 1L8.5 8.5l.94-2.06 2.06-.94-2.06-.94L8.5 2.5l-.94 2.06-2.06.94zm10 10l.94 2.06.94-2.06 2.06-.94-2.06-.94-.94-2.06-.94 2.06-2.06.94z\"/><path d=\"M17.41 7.96l-1.37-1.37c-.4-.4-.92-.59-1.43-.59-.52 0-1.04.2-1.43.59L10.3 9.45l-7.72 7.72c-.78.78-.78 2.05 0 2.83L4 21.41c.39.39.9.59 1.41.59.51 0 1.02-.2 1.41-.59l7.78-7.78 2.81-2.81c.8-.78.8-2.07 0-2.86zM5.41 20L4 18.59l7.72-7.72 1.47 1.35L5.41 20z\"/>\n",
              "  </svg>\n",
              "      </button>\n",
              "      \n",
              "  <style>\n",
              "    .colab-df-container {\n",
              "      display:flex;\n",
              "      flex-wrap:wrap;\n",
              "      gap: 12px;\n",
              "    }\n",
              "\n",
              "    .colab-df-convert {\n",
              "      background-color: #E8F0FE;\n",
              "      border: none;\n",
              "      border-radius: 50%;\n",
              "      cursor: pointer;\n",
              "      display: none;\n",
              "      fill: #1967D2;\n",
              "      height: 32px;\n",
              "      padding: 0 0 0 0;\n",
              "      width: 32px;\n",
              "    }\n",
              "\n",
              "    .colab-df-convert:hover {\n",
              "      background-color: #E2EBFA;\n",
              "      box-shadow: 0px 1px 2px rgba(60, 64, 67, 0.3), 0px 1px 3px 1px rgba(60, 64, 67, 0.15);\n",
              "      fill: #174EA6;\n",
              "    }\n",
              "\n",
              "    [theme=dark] .colab-df-convert {\n",
              "      background-color: #3B4455;\n",
              "      fill: #D2E3FC;\n",
              "    }\n",
              "\n",
              "    [theme=dark] .colab-df-convert:hover {\n",
              "      background-color: #434B5C;\n",
              "      box-shadow: 0px 1px 3px 1px rgba(0, 0, 0, 0.15);\n",
              "      filter: drop-shadow(0px 1px 2px rgba(0, 0, 0, 0.3));\n",
              "      fill: #FFFFFF;\n",
              "    }\n",
              "  </style>\n",
              "\n",
              "      <script>\n",
              "        const buttonEl =\n",
              "          document.querySelector('#df-8bfcea09-a3b6-42b7-9d3f-e0fb40482903 button.colab-df-convert');\n",
              "        buttonEl.style.display =\n",
              "          google.colab.kernel.accessAllowed ? 'block' : 'none';\n",
              "\n",
              "        async function convertToInteractive(key) {\n",
              "          const element = document.querySelector('#df-8bfcea09-a3b6-42b7-9d3f-e0fb40482903');\n",
              "          const dataTable =\n",
              "            await google.colab.kernel.invokeFunction('convertToInteractive',\n",
              "                                                     [key], {});\n",
              "          if (!dataTable) return;\n",
              "\n",
              "          const docLinkHtml = 'Like what you see? Visit the ' +\n",
              "            '<a target=\"_blank\" href=https://colab.research.google.com/notebooks/data_table.ipynb>data table notebook</a>'\n",
              "            + ' to learn more about interactive tables.';\n",
              "          element.innerHTML = '';\n",
              "          dataTable['output_type'] = 'display_data';\n",
              "          await google.colab.output.renderOutput(dataTable, element);\n",
              "          const docLink = document.createElement('div');\n",
              "          docLink.innerHTML = docLinkHtml;\n",
              "          element.appendChild(docLink);\n",
              "        }\n",
              "      </script>\n",
              "    </div>\n",
              "  </div>\n",
              "  "
            ]
          },
          "metadata": {},
          "execution_count": 6
        }
      ]
    },
    {
      "cell_type": "code",
      "source": [
        "df.tail(5)"
      ],
      "metadata": {
        "id": "5tuap0-ewDC9",
        "outputId": "22b7e880-c86d-4088-d711-0afaacb4372a",
        "colab": {
          "base_uri": "https://localhost:8080/",
          "height": 250
        }
      },
      "execution_count": 12,
      "outputs": [
        {
          "output_type": "execute_result",
          "data": {
            "text/plain": [
              "        Store        Date  Dept  Weekly_Sales  IsHoliday Type    Size  \\\n",
              "418234     45  2012-09-21    98        467.30      False    B  118221   \n",
              "418235     45  2012-09-28    98        508.37      False    B  118221   \n",
              "418236     45  2012-10-05    98        628.10      False    B  118221   \n",
              "418237     45  2012-10-12    98       1061.02      False    B  118221   \n",
              "418238     45  2012-10-19    98        760.01      False    B  118221   \n",
              "\n",
              "        Temperature  Fuel_Price  MarkDown1  MarkDown2  MarkDown3  MarkDown4  \\\n",
              "418234        65.32       4.038    8452.20      92.28      63.24    2376.38   \n",
              "418235        64.88       3.997    4556.61      20.64       1.50    1601.01   \n",
              "418236        64.89       3.985    5046.74        NaN      18.82    2253.43   \n",
              "418237        54.47       4.000    1956.28        NaN       7.89     599.32   \n",
              "418238        56.47       3.969    2004.02        NaN       3.18     437.73   \n",
              "\n",
              "        MarkDown5         CPI  Unemployment  \n",
              "418234    8670.40  191.856704         8.684  \n",
              "418235    3288.25  192.013558         8.684  \n",
              "418236    2340.01  192.170412         8.667  \n",
              "418237    3990.54  192.327265         8.667  \n",
              "418238    1537.49  192.330854         8.667  "
            ],
            "text/html": [
              "\n",
              "  <div id=\"df-a0811848-af4d-4c0f-81ed-255a1a57f095\">\n",
              "    <div class=\"colab-df-container\">\n",
              "      <div>\n",
              "<style scoped>\n",
              "    .dataframe tbody tr th:only-of-type {\n",
              "        vertical-align: middle;\n",
              "    }\n",
              "\n",
              "    .dataframe tbody tr th {\n",
              "        vertical-align: top;\n",
              "    }\n",
              "\n",
              "    .dataframe thead th {\n",
              "        text-align: right;\n",
              "    }\n",
              "</style>\n",
              "<table border=\"1\" class=\"dataframe\">\n",
              "  <thead>\n",
              "    <tr style=\"text-align: right;\">\n",
              "      <th></th>\n",
              "      <th>Store</th>\n",
              "      <th>Date</th>\n",
              "      <th>Dept</th>\n",
              "      <th>Weekly_Sales</th>\n",
              "      <th>IsHoliday</th>\n",
              "      <th>Type</th>\n",
              "      <th>Size</th>\n",
              "      <th>Temperature</th>\n",
              "      <th>Fuel_Price</th>\n",
              "      <th>MarkDown1</th>\n",
              "      <th>MarkDown2</th>\n",
              "      <th>MarkDown3</th>\n",
              "      <th>MarkDown4</th>\n",
              "      <th>MarkDown5</th>\n",
              "      <th>CPI</th>\n",
              "      <th>Unemployment</th>\n",
              "    </tr>\n",
              "  </thead>\n",
              "  <tbody>\n",
              "    <tr>\n",
              "      <th>418234</th>\n",
              "      <td>45</td>\n",
              "      <td>2012-09-21</td>\n",
              "      <td>98</td>\n",
              "      <td>467.30</td>\n",
              "      <td>False</td>\n",
              "      <td>B</td>\n",
              "      <td>118221</td>\n",
              "      <td>65.32</td>\n",
              "      <td>4.038</td>\n",
              "      <td>8452.20</td>\n",
              "      <td>92.28</td>\n",
              "      <td>63.24</td>\n",
              "      <td>2376.38</td>\n",
              "      <td>8670.40</td>\n",
              "      <td>191.856704</td>\n",
              "      <td>8.684</td>\n",
              "    </tr>\n",
              "    <tr>\n",
              "      <th>418235</th>\n",
              "      <td>45</td>\n",
              "      <td>2012-09-28</td>\n",
              "      <td>98</td>\n",
              "      <td>508.37</td>\n",
              "      <td>False</td>\n",
              "      <td>B</td>\n",
              "      <td>118221</td>\n",
              "      <td>64.88</td>\n",
              "      <td>3.997</td>\n",
              "      <td>4556.61</td>\n",
              "      <td>20.64</td>\n",
              "      <td>1.50</td>\n",
              "      <td>1601.01</td>\n",
              "      <td>3288.25</td>\n",
              "      <td>192.013558</td>\n",
              "      <td>8.684</td>\n",
              "    </tr>\n",
              "    <tr>\n",
              "      <th>418236</th>\n",
              "      <td>45</td>\n",
              "      <td>2012-10-05</td>\n",
              "      <td>98</td>\n",
              "      <td>628.10</td>\n",
              "      <td>False</td>\n",
              "      <td>B</td>\n",
              "      <td>118221</td>\n",
              "      <td>64.89</td>\n",
              "      <td>3.985</td>\n",
              "      <td>5046.74</td>\n",
              "      <td>NaN</td>\n",
              "      <td>18.82</td>\n",
              "      <td>2253.43</td>\n",
              "      <td>2340.01</td>\n",
              "      <td>192.170412</td>\n",
              "      <td>8.667</td>\n",
              "    </tr>\n",
              "    <tr>\n",
              "      <th>418237</th>\n",
              "      <td>45</td>\n",
              "      <td>2012-10-12</td>\n",
              "      <td>98</td>\n",
              "      <td>1061.02</td>\n",
              "      <td>False</td>\n",
              "      <td>B</td>\n",
              "      <td>118221</td>\n",
              "      <td>54.47</td>\n",
              "      <td>4.000</td>\n",
              "      <td>1956.28</td>\n",
              "      <td>NaN</td>\n",
              "      <td>7.89</td>\n",
              "      <td>599.32</td>\n",
              "      <td>3990.54</td>\n",
              "      <td>192.327265</td>\n",
              "      <td>8.667</td>\n",
              "    </tr>\n",
              "    <tr>\n",
              "      <th>418238</th>\n",
              "      <td>45</td>\n",
              "      <td>2012-10-19</td>\n",
              "      <td>98</td>\n",
              "      <td>760.01</td>\n",
              "      <td>False</td>\n",
              "      <td>B</td>\n",
              "      <td>118221</td>\n",
              "      <td>56.47</td>\n",
              "      <td>3.969</td>\n",
              "      <td>2004.02</td>\n",
              "      <td>NaN</td>\n",
              "      <td>3.18</td>\n",
              "      <td>437.73</td>\n",
              "      <td>1537.49</td>\n",
              "      <td>192.330854</td>\n",
              "      <td>8.667</td>\n",
              "    </tr>\n",
              "  </tbody>\n",
              "</table>\n",
              "</div>\n",
              "      <button class=\"colab-df-convert\" onclick=\"convertToInteractive('df-a0811848-af4d-4c0f-81ed-255a1a57f095')\"\n",
              "              title=\"Convert this dataframe to an interactive table.\"\n",
              "              style=\"display:none;\">\n",
              "        \n",
              "  <svg xmlns=\"http://www.w3.org/2000/svg\" height=\"24px\"viewBox=\"0 0 24 24\"\n",
              "       width=\"24px\">\n",
              "    <path d=\"M0 0h24v24H0V0z\" fill=\"none\"/>\n",
              "    <path d=\"M18.56 5.44l.94 2.06.94-2.06 2.06-.94-2.06-.94-.94-2.06-.94 2.06-2.06.94zm-11 1L8.5 8.5l.94-2.06 2.06-.94-2.06-.94L8.5 2.5l-.94 2.06-2.06.94zm10 10l.94 2.06.94-2.06 2.06-.94-2.06-.94-.94-2.06-.94 2.06-2.06.94z\"/><path d=\"M17.41 7.96l-1.37-1.37c-.4-.4-.92-.59-1.43-.59-.52 0-1.04.2-1.43.59L10.3 9.45l-7.72 7.72c-.78.78-.78 2.05 0 2.83L4 21.41c.39.39.9.59 1.41.59.51 0 1.02-.2 1.41-.59l7.78-7.78 2.81-2.81c.8-.78.8-2.07 0-2.86zM5.41 20L4 18.59l7.72-7.72 1.47 1.35L5.41 20z\"/>\n",
              "  </svg>\n",
              "      </button>\n",
              "      \n",
              "  <style>\n",
              "    .colab-df-container {\n",
              "      display:flex;\n",
              "      flex-wrap:wrap;\n",
              "      gap: 12px;\n",
              "    }\n",
              "\n",
              "    .colab-df-convert {\n",
              "      background-color: #E8F0FE;\n",
              "      border: none;\n",
              "      border-radius: 50%;\n",
              "      cursor: pointer;\n",
              "      display: none;\n",
              "      fill: #1967D2;\n",
              "      height: 32px;\n",
              "      padding: 0 0 0 0;\n",
              "      width: 32px;\n",
              "    }\n",
              "\n",
              "    .colab-df-convert:hover {\n",
              "      background-color: #E2EBFA;\n",
              "      box-shadow: 0px 1px 2px rgba(60, 64, 67, 0.3), 0px 1px 3px 1px rgba(60, 64, 67, 0.15);\n",
              "      fill: #174EA6;\n",
              "    }\n",
              "\n",
              "    [theme=dark] .colab-df-convert {\n",
              "      background-color: #3B4455;\n",
              "      fill: #D2E3FC;\n",
              "    }\n",
              "\n",
              "    [theme=dark] .colab-df-convert:hover {\n",
              "      background-color: #434B5C;\n",
              "      box-shadow: 0px 1px 3px 1px rgba(0, 0, 0, 0.15);\n",
              "      filter: drop-shadow(0px 1px 2px rgba(0, 0, 0, 0.3));\n",
              "      fill: #FFFFFF;\n",
              "    }\n",
              "  </style>\n",
              "\n",
              "      <script>\n",
              "        const buttonEl =\n",
              "          document.querySelector('#df-a0811848-af4d-4c0f-81ed-255a1a57f095 button.colab-df-convert');\n",
              "        buttonEl.style.display =\n",
              "          google.colab.kernel.accessAllowed ? 'block' : 'none';\n",
              "\n",
              "        async function convertToInteractive(key) {\n",
              "          const element = document.querySelector('#df-a0811848-af4d-4c0f-81ed-255a1a57f095');\n",
              "          const dataTable =\n",
              "            await google.colab.kernel.invokeFunction('convertToInteractive',\n",
              "                                                     [key], {});\n",
              "          if (!dataTable) return;\n",
              "\n",
              "          const docLinkHtml = 'Like what you see? Visit the ' +\n",
              "            '<a target=\"_blank\" href=https://colab.research.google.com/notebooks/data_table.ipynb>data table notebook</a>'\n",
              "            + ' to learn more about interactive tables.';\n",
              "          element.innerHTML = '';\n",
              "          dataTable['output_type'] = 'display_data';\n",
              "          await google.colab.output.renderOutput(dataTable, element);\n",
              "          const docLink = document.createElement('div');\n",
              "          docLink.innerHTML = docLinkHtml;\n",
              "          element.appendChild(docLink);\n",
              "        }\n",
              "      </script>\n",
              "    </div>\n",
              "  </div>\n",
              "  "
            ]
          },
          "metadata": {},
          "execution_count": 12
        }
      ]
    },
    {
      "cell_type": "code",
      "source": [
        "df.info()"
      ],
      "metadata": {
        "id": "TaXnWTonwH8N",
        "outputId": "219ba8d8-5a28-4929-8fcb-914b08db95c0",
        "colab": {
          "base_uri": "https://localhost:8080/"
        }
      },
      "execution_count": 9,
      "outputs": [
        {
          "output_type": "stream",
          "name": "stdout",
          "text": [
            "<class 'pandas.core.frame.DataFrame'>\n",
            "RangeIndex: 418239 entries, 0 to 418238\n",
            "Data columns (total 16 columns):\n",
            " #   Column        Non-Null Count   Dtype  \n",
            "---  ------        --------------   -----  \n",
            " 0   Store         418239 non-null  int64  \n",
            " 1   Date          418239 non-null  object \n",
            " 2   Dept          418239 non-null  int64  \n",
            " 3   Weekly_Sales  418239 non-null  float64\n",
            " 4   IsHoliday     418239 non-null  bool   \n",
            " 5   Type          418239 non-null  object \n",
            " 6   Size          418239 non-null  int64  \n",
            " 7   Temperature   418239 non-null  float64\n",
            " 8   Fuel_Price    418239 non-null  float64\n",
            " 9   MarkDown1     147484 non-null  float64\n",
            " 10  MarkDown2     108144 non-null  float64\n",
            " 11  MarkDown3     134568 non-null  float64\n",
            " 12  MarkDown4     132315 non-null  float64\n",
            " 13  MarkDown5     148182 non-null  float64\n",
            " 14  CPI           418239 non-null  float64\n",
            " 15  Unemployment  418239 non-null  float64\n",
            "dtypes: bool(1), float64(10), int64(3), object(2)\n",
            "memory usage: 48.3+ MB\n"
          ]
        }
      ]
    },
    {
      "cell_type": "code",
      "source": [
        "ans1 = df.shape[0]"
      ],
      "metadata": {
        "id": "xAHhrffgwMb9"
      },
      "execution_count": 10,
      "outputs": []
    },
    {
      "cell_type": "code",
      "execution_count": 11,
      "metadata": {
        "deletable": false,
        "editable": false,
        "nbgrader": {
          "cell_type": "code",
          "checksum": "fc03cc46b2768a89d426ee93551500f4",
          "grade": true,
          "grade_id": "cell-2fde504d7417bee2",
          "locked": true,
          "points": 1,
          "schema_version": 3,
          "solution": false,
          "task": false
        },
        "id": "BG4eqU_2qYoZ"
      },
      "outputs": [],
      "source": [
        "# проверка, что задание решено корректно\n",
        "assert ans1 > 418000\n",
        "\n",
        "# Подобные тесты скрыты от вас "
      ]
    },
    {
      "cell_type": "markdown",
      "metadata": {
        "id": "qx7vKfNHqYoZ"
      },
      "source": [
        "__в)__ Разберитесь с пропущенными переменными: \n",
        "\n",
        "- Выведите на экран, сколько пропущенных значений в процентах есть в каждой переменной.\n",
        "- Визуализируйте пропуски с помощью функции `sns.heatmap`. Не надо рисовать картинку сразу для всего датасета. На визуализации нам хочется посмотреть на то, как пропуски в разных переменных соотносятся друг с другом. Отберите случайные $10\\%$ наблюдений из исходной таблички методом `.sample( )` и визуализируйте их. \n",
        "- Запишите в переменную `ans2` число переменных, которые имеют более $60\\%$ пропусков.\n",
        "- Удалите эти переменные из набора данных."
      ]
    },
    {
      "cell_type": "code",
      "source": [
        "missings = df.isna().sum()/df.shape[0]*100"
      ],
      "metadata": {
        "id": "y7ll6LafwksG"
      },
      "execution_count": 25,
      "outputs": []
    },
    {
      "cell_type": "code",
      "source": [
        "import seaborn as sns\n",
        "df_random_10 = df.sample(frac = 0.1)\n",
        "sns.heatmap(df_random_10.isnull(),\n",
        "            yticklabels=False,\n",
        "            cbar=False)"
      ],
      "metadata": {
        "id": "Zalwp6dFxh62",
        "outputId": "08340c18-ca90-4a97-eb17-f6d549dde287",
        "colab": {
          "base_uri": "https://localhost:8080/",
          "height": 349
        }
      },
      "execution_count": 33,
      "outputs": [
        {
          "output_type": "execute_result",
          "data": {
            "text/plain": [
              "<Axes: >"
            ]
          },
          "metadata": {},
          "execution_count": 33
        },
        {
          "output_type": "display_data",
          "data": {
            "text/plain": [
              "<Figure size 432x288 with 1 Axes>"
            ],
            "image/png": "[encoded data removed]"
          },
          "metadata": {
            "needs_background": "light"
          }
        }
      ]
    },
    {
      "cell_type": "code",
      "execution_count": 30,
      "metadata": {
        "deletable": false,
        "nbgrader": {
          "cell_type": "code",
          "checksum": "511a253333d7aaee138142c31c6fcacc",
          "grade": false,
          "grade_id": "cell-408bed088bf91fba",
          "locked": false,
          "schema_version": 3,
          "solution": true,
          "task": false
        },
        "id": "B3WMUkR4qYoZ"
      },
      "outputs": [],
      "source": [
        "### ╰( ͡° ͜ʖ ͡° )つ▬▬ι═══════  bzzzzzzzzzz\n",
        "# will the code be with you\n",
        "\n",
        "# Формат ответа: целое число, пример: 6\n",
        "ans2 = (missings>60).sum()\n",
        "\n",
        "# your code here\n"
      ]
    },
    {
      "cell_type": "code",
      "execution_count": 31,
      "metadata": {
        "deletable": false,
        "editable": false,
        "nbgrader": {
          "cell_type": "code",
          "checksum": "198712c371a6e0d49ba4f26087d0571c",
          "grade": true,
          "grade_id": "cell-80ef4caa69e035f8",
          "locked": true,
          "points": 1,
          "schema_version": 3,
          "solution": false,
          "task": false
        },
        "id": "FtnGzHsAqYoZ"
      },
      "outputs": [],
      "source": [
        "# проверка, что задание решено корректно\n",
        "assert ans2 > 4\n",
        "assert ans2 < 10\n",
        "\n",
        "# Подобные тесты скрыты от вас "
      ]
    },
    {
      "cell_type": "markdown",
      "metadata": {
        "id": "3n-GgpT4qYoa"
      },
      "source": [
        "__г)__ Сколько уникальных магазинов есть в данных? Запишите их число в переменную `ans3`. Сколько уникальных отделов есть в данных? Запишите их число в переменную `ans4`. За какой диапазон у нас присутствуют данные? Запишите этот диапазон, выраженный в числе дней, в переменную `ans5`. "
      ]
    },
    {
      "cell_type": "code",
      "execution_count": 40,
      "metadata": {
        "deletable": false,
        "nbgrader": {
          "cell_type": "code",
          "checksum": "65f0712428c0d7ac0c607ff9cadd1352",
          "grade": false,
          "grade_id": "cell-8ffc6b7849e83b1b",
          "locked": false,
          "schema_version": 3,
          "solution": true,
          "task": false
        },
        "id": "RRscfiMMqYoa"
      },
      "outputs": [],
      "source": [
        "### ╰( ͡° ͜ʖ ͡° )つ▬▬ι═══════  bzzzzzzzzzz\n",
        "# will the code be with you\n",
        "\n",
        "# Формат ответа: целое число, пример: 555\n",
        "ans3 = df['Store'].unique().size\n",
        "ans4 = df['Dept'].unique().size\n",
        "ans5 = (max(pd.to_datetime(df['Date']))-min(pd.to_datetime(df['Date']))).days\n",
        "\n",
        "# your code here\n"
      ]
    },
    {
      "cell_type": "code",
      "source": [
        "print(ans3)\n",
        "print(ans4)\n",
        "print(ans5)"
      ],
      "metadata": {
        "id": "JD1M5KH22FaP",
        "outputId": "cc2adbc0-2f4f-436f-86cb-f48022f0af92",
        "colab": {
          "base_uri": "https://localhost:8080/"
        }
      },
      "execution_count": 41,
      "outputs": [
        {
          "output_type": "stream",
          "name": "stdout",
          "text": [
            "45\n",
            "81\n",
            "987\n"
          ]
        }
      ]
    },
    {
      "cell_type": "code",
      "execution_count": 42,
      "metadata": {
        "deletable": false,
        "editable": false,
        "nbgrader": {
          "cell_type": "code",
          "checksum": "010195017fb382aaaae1f7b8f2cb5789",
          "grade": true,
          "grade_id": "cell-dd32b2ff054bc7c7",
          "locked": true,
          "points": 3,
          "schema_version": 3,
          "solution": false,
          "task": false
        },
        "id": "hu8zwsyNqYoa"
      },
      "outputs": [],
      "source": [
        "# проверка, что задание решено корректно\n",
        "assert ans3 < 50\n",
        "assert ans4 > 80\n",
        "assert ans5 > 900\n",
        "\n",
        "# Подобные тесты скрыты от вас "
      ]
    },
    {
      "cell_type": "markdown",
      "metadata": {
        "id": "KqylvnCkqYoa"
      },
      "source": [
        "__д)__ Посмотрим на динамику продаж в магазинах в целом. Для этого построим график, где по оси $x$ будет отложена дата, а по оси $y$ продажи по всей сети Walmart. Обязательно подпишите у графика оси. В какой день наблюдаются максимальные продажи? Запишите дату этого дня в переменную `ans6` в формате `год-месяц-день`.\n",
        "\n",
        "Насколько хорошо идут дела у магазинов? Есть ли в динамике продаж какие-то интересные особенности? Как думаете, с чем они связаны? "
      ]
    },
    {
      "cell_type": "code",
      "execution_count": null,
      "metadata": {
        "deletable": false,
        "nbgrader": {
          "cell_type": "code",
          "checksum": "6ad425e241a70bdf042bda708f421b21",
          "grade": false,
          "grade_id": "cell-23173eeb1769975e",
          "locked": false,
          "schema_version": 3,
          "solution": true,
          "task": false
        },
        "id": "dVFUMKdDqYoa"
      },
      "outputs": [],
      "source": [
        "### ╰( ͡° ͜ʖ ͡° )つ▬▬ι═══════  bzzzzzzzzzz\n",
        "# will the code be with you\n",
        "\n",
        "# Формат ответа: строка, пример: '2010-12-04'\n",
        "# Вокруг ответа не должно быть никаких надписей array(['pip fruit']) или Index('pip fruit')\n",
        "# Это должна быть именно строка, а не строка в массиве\n",
        "ans6 = ...\n",
        "\n",
        "# your code here\n"
      ]
    },
    {
      "cell_type": "code",
      "execution_count": null,
      "metadata": {
        "deletable": false,
        "editable": false,
        "nbgrader": {
          "cell_type": "code",
          "checksum": "02de4ed0dcd8f6b58e1b1d591eaf07bd",
          "grade": true,
          "grade_id": "cell-477b58db6d84cc85",
          "locked": true,
          "points": 1,
          "schema_version": 3,
          "solution": false,
          "task": false
        },
        "id": "EfhjR4aCqYoa"
      },
      "outputs": [],
      "source": [
        "# проверка, что задание решено корректно\n",
        "assert ans6.split('-')[-1] == '24'\n",
        "\n",
        "# Подобные тесты скрыты от вас "
      ]
    },
    {
      "cell_type": "markdown",
      "metadata": {
        "id": "oQ1QopbQqYoa"
      },
      "source": [
        "__е)__ Найдите и нарисуйте матрицу корреляции для числовых показателей. Какие два показателя коррелируют сильнее всего? Запишите модуль получившегося значения в переменную `ans7` (корреляция мб отрицательной). \n",
        "\n",
        "При строительстве матрицы не надо брать в расчёт номер магазина, номер отдела и размер магазина, так как их взаимосвязь с другими показателями не имеет никакого смысла.\n",
        "\n",
        "Обратите отдельное внимание на знак корреляции между безработицей (Unemployment) и индексом потребительских цен (CPI). Про него в конце тетрадки вас ждёт отдельная история."
      ]
    },
    {
      "cell_type": "code",
      "execution_count": null,
      "metadata": {
        "deletable": false,
        "nbgrader": {
          "cell_type": "code",
          "checksum": "c3733f94e6475dd3a7e3380a1641d953",
          "grade": false,
          "grade_id": "cell-ae901edafdac5b38",
          "locked": false,
          "schema_version": 3,
          "solution": true,
          "task": false
        },
        "id": "57b24PCcqYob"
      },
      "outputs": [],
      "source": [
        "### ╰( ͡° ͜ʖ ͡° )つ▬▬ι═══════  bzzzzzzzzzz\n",
        "# will the code be with you\n",
        "\n",
        "# Формат ответа действительное число, пример: 0.22222\n",
        "# Не забудьте взять модуль от матрицы корреляций! \n",
        "ans7 = ...\n",
        "\n",
        "# your code here\n"
      ]
    },
    {
      "cell_type": "markdown",
      "metadata": {
        "id": "RBOcAlkRqYob"
      },
      "source": [
        "Постройте между этими же переменными облака рассеивания методом `sns.pairplot`. Не надо строить эту визуализацию сразу же для всех точек, которые есть в данных. Отберите случайные $10\\%$ наблюдений для картинки с помощью метода `.sample( )`.\n",
        "\n",
        "- Как думате, между какими переменными в данных присутствует нелинейная взаимосвязь? \n",
        "- Как думаете, какое распределение у цен? Как бы вы его нормализовали, если бы вам это понадобилось? "
      ]
    },
    {
      "cell_type": "code",
      "execution_count": null,
      "metadata": {
        "deletable": false,
        "nbgrader": {
          "cell_type": "code",
          "checksum": "f05442909cf19e41d054066165032aff",
          "grade": false,
          "grade_id": "cell-c92f4469906851ef",
          "locked": false,
          "schema_version": 3,
          "solution": true,
          "task": false
        },
        "id": "lmRszrz-qYob"
      },
      "outputs": [],
      "source": [
        "### ╰( ͡° ͜ʖ ͡° )つ▬▬ι═══════  bzzzzzzzzzz\n",
        "# will the code be with you\n",
        "\n",
        "# your code here\n"
      ]
    },
    {
      "cell_type": "code",
      "execution_count": null,
      "metadata": {
        "deletable": false,
        "editable": false,
        "nbgrader": {
          "cell_type": "code",
          "checksum": "00e21877a65ac3eaff0733c2528c2713",
          "grade": true,
          "grade_id": "cell-1e75f8f70ac19a0b",
          "locked": true,
          "points": 2,
          "schema_version": 3,
          "solution": false,
          "task": false
        },
        "id": "wjf_ExJxqYob"
      },
      "outputs": [],
      "source": [
        "# проверка, что задание решено корректно\n",
        "assert ans7 > 0.2\n",
        "assert ans7 < 0.35\n",
        "\n",
        "# Подобные тесты скрыты от вас "
      ]
    },
    {
      "cell_type": "markdown",
      "metadata": {
        "id": "_bfLRKtEqYob"
      },
      "source": [
        "__ё)__  Найдите топ-5 самых больших магазинов по суммарным продажам за все время и отобразите динамику их продаж на одном графике. Правда ли, что пик продаж у них происходит примерно в одно время? Как думаете, с чем связан этот пик? "
      ]
    },
    {
      "cell_type": "code",
      "execution_count": null,
      "metadata": {
        "deletable": false,
        "nbgrader": {
          "cell_type": "code",
          "checksum": "bac359495d95bdf219ff6ff65b6b1e44",
          "grade": false,
          "grade_id": "cell-560c6f5c497839b8",
          "locked": false,
          "schema_version": 3,
          "solution": true,
          "task": false
        },
        "id": "vTnavss_qYob"
      },
      "outputs": [],
      "source": [
        "### ╰( ͡° ͜ʖ ͡° )つ▬▬ι═══════  bzzzzzzzzzz\n",
        "# will the code be with you\n",
        "\n",
        "\n",
        "# your code here\n"
      ]
    },
    {
      "cell_type": "markdown",
      "metadata": {
        "id": "i3Cyr4vcqYob"
      },
      "source": [
        "__ж)__ Найдите топ-10 самых больших отделов по суммарным продажам за 2011 год среди магазинов с типом А и нарисуйте столбчатую диаграмму для них."
      ]
    },
    {
      "cell_type": "code",
      "execution_count": null,
      "metadata": {
        "deletable": false,
        "nbgrader": {
          "cell_type": "code",
          "checksum": "28b13eb3fe15b3d55ffeba8a0e21e210",
          "grade": false,
          "grade_id": "cell-0e38d405853dfeb1",
          "locked": false,
          "schema_version": 3,
          "solution": true,
          "task": false
        },
        "id": "kG1oWyxwqYob"
      },
      "outputs": [],
      "source": [
        "### ╰( ͡° ͜ʖ ͡° )つ▬▬ι═══════  bzzzzzzzzzz\n",
        "# will the code be with you\n",
        "\n",
        "\n",
        "# your code here\n"
      ]
    },
    {
      "cell_type": "markdown",
      "metadata": {
        "id": "1ERh4XExqYob"
      },
      "source": [
        "# Бонусная история про анализ данных и ошибки, которые мы при нём совершаем\n",
        "\n",
        "Помните, когда мы смотрели на корреляционную матрицу, мы увидели, что между безработицей и инфляцией есть отрицательная взаимосвязь: чем больше безработица, тем ниже инфляция. В экономике эта взаимосвязь называется кривой Филиппса. И за ней кроется очень интересная история из целой плеяды ошибок. Давайте попробуем научиться на чужих ошибках чему-нибудь новому. \n",
        "\n",
        "В $1958$ году была опубликована статья экономиста Филиппса, в которой он обнаружил достаточно чёткую отрицательную связь между инфляцией и безработицей в Англии за прошедшие $70$ лет. Проверка этой работы на американских данных подтвердила наличие взаимосвязи. Так родилась знаменитая кривая Филиппса. Её стали интерпретировать как некую возможность выбора между высокой инфляцией и высокой безработицей. Нужно сократить безработицу? Давайте напечатаем денег и разгоним инфляцию!\n",
        "\n",
        "Любому политику безработица кажется более значимой социальной проблемой, нежели инфляция, и он хочет её победить любыми доступными средствами. Самым популярным средством по борьбе с безработицей является агрессивная монетарная политика, которая состоит в расширении денежной массы. Грубо говоря, просто печатают ещё денег. Именно это и было сделано президентом США Ричардом Никсоном в начале $1970$-х гг. в ходе погони за низкой безработицей и высокой инфляцией.\n",
        "\n",
        "К сожалению, план Никсона удался только наполовину, он добился высокой инфляции, но сбить безработицу не смог. В краткосрочном периоде она действительно упала, но через некоторое время вернулась назад. Кривая Филиппса в этот период времени исчезла из данных. Никакой взаимосвязи между безработицей и инфляцией больше не прослеживалось.\n",
        "\n",
        "В течение $70$-х все Западные страны поэкспериментировали с кривой Филиппса. В конечном итоге, $1980$-е годы были потрачены на обуздание разогнанной инфляции. Победа над инфляцией обошлась довольно дорого. Например, Пол Волкер, возглавлявший в этот период времени ФРС США, взвинтил процентную ставку до $19\\%$. Высокие ставки отправили экономику в рецессию. Такая жёсткая принципиальная политика ФРС позволила сбить инфляционные ожидания.\n",
        "\n",
        "__Какова мораль этой истории?__ Политики увидели в данных закономерность, но начав бороться с безработицей, печатая деньги, немного перепутали причину и следствие. На самом деле никакой чёткой отрицательной зависимости между инфляцией и безработицей в природе не существует. Её наличие в данных является следствием сложного взаимодействия между экономическими агентами. Политики пытавшись воздействовать на следствие, а не на причину, из-за этого у них не получилось достичь своих целей.\n",
        "\n",
        "Не путайте причину и следствие, когда смотрите в данные и помните, что работа с ними малость сложнее, чем кажется на первый взгляд. __Корреляция не обозначает причинности.__ "
      ]
    },
    {
      "cell_type": "markdown",
      "metadata": {
        "id": "FEmEs8WAqYoc"
      },
      "source": [
        "   "
      ]
    }
  ],
  "metadata": {
    "kernelspec": {
      "display_name": "Python 3",
      "language": "python",
      "name": "python3"
    },
    "language_info": {
      "codemirror_mode": {
        "name": "ipython",
        "version": 3
      },
      "file_extension": ".py",
      "mimetype": "text/x-python",
      "name": "python",
      "nbconvert_exporter": "python",
      "pygments_lexer": "ipython3",
      "version": "3.7.6"
    },
    "colab": {
      "provenance": []
    }
  },
  "nbformat": 4,
  "nbformat_minor": 0
}